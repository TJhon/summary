{
  "nbformat": 4,
  "nbformat_minor": 0,
  "metadata": {
    "colab": {
      "name": "mrth-d1",
      "provenance": [],
      "collapsed_sections": []
    },
    "kernelspec": {
      "name": "python3",
      "display_name": "Python 3"
    },
    "language_info": {
      "name": "python"
    },
    "accelerator": "GPU"
  },
  "cells": [
    {
      "cell_type": "markdown",
      "metadata": {
        "id": "CPFwYtqydg1p"
      },
      "source": [
        "# Data\n",
        "\n",
        "\n",
        "- ID                             : Número identificador del cliente\n",
        "- CHECKING_BALANCE               : Saldo que posee el cliente en su cuenta corriente\n",
        "- PAYMENT_TERM                   : Cantidad de días que el cvliente posee para pagar el préstamo\n",
        "- CREDIT_HISTORY                 : Situación crediticia pasada del cliente\n",
        "- LOAN_PURPOSE                   : Motivo del préstamo\n",
        "- LOAN_AMOUNT                    : Monto del préstamo\n",
        "- EXISTING_SAVINGS               : Saldo de cuenta de ahorros\n",
        "- EMPLOYMENT_DURATION            : Cuántos años ha permanecido el cliente en su empleo\n",
        "- INSTALLMENT_PERCENT            : Cantidad de cuotas en las que el préstamo debe ser pagado\n",
        "- SEX                            : Sexo del cliente\n",
        "- OTHERS_ON_LOAN                 : Denota la existencia de un garante u otro solicitante del préstamo\n",
        "- CURRENT_RESIDENCE_DURATION     : Años que el cliente ha permanecido en su última residencia\n",
        "- PROPERTY                       : Indica si el cliente posee alguna propiedad a su nombre\n",
        "- AGE                            : Edad del cliente\n",
        "- INSTALLMENT_PLANS              : Plan de financiamiento, que puede ser del banco, externo o ninguno\n",
        "- HOUSING                        : Indica si el cliente posee una casa propia\n",
        "- EXISTING_CREDITS_COUNT         : Número de préstamos que le han sido concedidos al cliente en el pasado\n",
        "- JOB_TYPE                       : Tipo de empleo: 0 - desempleado, 1 - no calificado, 2 - autónomo, 3 - calificado\n",
        "- DEPENDENTS                     : Número de personas con acceso a la cuenta\n",
        "- TELEPHONE                      : Denota si el cliente tiene un número de teléfono registrado\n",
        "- FOREIGN_WORKER                   Denot: si el cliente trabaja en un país fuera del banco\n"
      ]
    },
    {
      "cell_type": "code",
      "metadata": {
        "id": "zGuMHwxpcyrN"
      },
      "source": [
        "import pandas as pds"
      ],
      "execution_count": null,
      "outputs": []
    },
    {
      "cell_type": "code",
      "metadata": {
        "id": "RpLXOVd7dAsD"
      },
      "source": [
        "acc = pds.read_csv(\"/content/ACCOUNTS.csv\")\n",
        "dem = pds.read_csv(\"/content/DEMOGRAPHICS.csv\")\n",
        "loa = pds.read_csv(\"/content/LOANS.csv\")"
      ],
      "execution_count": null,
      "outputs": []
    },
    {
      "cell_type": "code",
      "metadata": {
        "id": "6xZJ2d1GdbWR"
      },
      "source": [
        "# acc"
      ],
      "execution_count": null,
      "outputs": []
    },
    {
      "cell_type": "code",
      "metadata": {
        "id": "k_rWhFpgf0tx"
      },
      "source": [
        "s1 = pds.merge(acc, dem, on = \"ID\", how = 'outer')\n",
        "full = pds.merge(s1, loa, on = \"ID\", how = 'outer')"
      ],
      "execution_count": null,
      "outputs": []
    },
    {
      "cell_type": "code",
      "metadata": {
        "id": "Vut9uQ11hFDN"
      },
      "source": [
        "# full"
      ],
      "execution_count": null,
      "outputs": []
    },
    {
      "cell_type": "markdown",
      "metadata": {
        "id": "WdUHNJmxbWfH"
      },
      "source": [
        "## CLEAN DATA\n",
        "\n",
        "--- factor in python\n",
        "\n",
        "- checking_balance\n",
        "- existing_savings\n",
        "- sex(F = 1, M = 0)"
      ]
    },
    {
      "cell_type": "code",
      "metadata": {
        "id": "AoAKIxlWdtOx"
      },
      "source": [
        "import numpy as np"
      ],
      "execution_count": null,
      "outputs": []
    },
    {
      "cell_type": "code",
      "metadata": {
        "id": "irWmRo4Qbp6H"
      },
      "source": [
        "#full['SEX'] = pds.Series(full['SEX']).str.replace(\"F\", \"1\")\n",
        "#full['SEX'] = pds.Series(full['SEX']).str.replace(\"M\", \"0\").astype(float)\n",
        "#full['SEX']\n"
      ],
      "execution_count": null,
      "outputs": []
    },
    {
      "cell_type": "code",
      "metadata": {
        "id": "XGCaQKKKgeSt"
      },
      "source": [
        "full['CHECKING_BALANCE'] = pds.to_numeric(full['CHECKING_BALANCE'], errors='coerce')\n",
        "full['EXISTING_SAVINGS'] = pds.to_numeric(full['EXISTING_SAVINGS'], errors='coerce')"
      ],
      "execution_count": null,
      "outputs": []
    },
    {
      "cell_type": "markdown",
      "metadata": {
        "id": "nL0aDqK7TzLH"
      },
      "source": [
        "### Nas\n",
        "\n",
        "- Mediana: \n",
        "  - age, \n",
        "  - payment_term, \n",
        "  - installment_percent\n",
        "- 0: \n",
        "  - checking_balance, \n",
        "  - existing_savings, \n",
        "  - existing_credits_count, \n",
        "  - {job_type}, \n",
        "  - dependents, \n",
        "  - telephone, \n",
        "  - foreing_worker, \n",
        "  - employment_duration, \n",
        "  - current_residence_duration, \n",
        "- string {ausencia}: \n",
        "  - credit_history -> NO_CREDITS\n",
        "  - property -> UNKNOWN \n",
        "  - housing, -> FREE\n",
        "  - installemnt_plans, -> NONE\n",
        "  - others_on_loan -> NONE\n",
        "- drop_na: \n",
        "  - sex, \n",
        "  - loan_amount\n",
        "  - loan_purpose\n",
        "  - allow"
      ]
    },
    {
      "cell_type": "code",
      "metadata": {
        "id": "GpZ2vGz8gxzo"
      },
      "source": [
        "mediana = ['AGE', 'PAYMENT_TERM', 'INSTALLMENT_PERCENT']\n",
        "adicional = [\n",
        "             'CHECKING_BALANCE'\n",
        "              , 'EXISTING_SAVINGS'\n",
        "              , 'EXISTING_CREDITS_COUNT'\n",
        "              , 'JOB_TYPE'\n",
        "              , 'DEPENDENTS'\n",
        "              , 'TELEPHONE'\n",
        "              , 'FOREING_WORKER'\n",
        "              , 'EMPLOYMENT_DURATION'\n",
        "              , 'CURRENT_RESIDENCE_DURATION'\n",
        "              , 'CREDIT_HISTORY'\n",
        "              , 'PROPERTY'\n",
        "              , 'INSTALLMENT_PLANS'\n",
        "              , 'OTHERS_ON_LOAN'\n",
        "]\n",
        "x_drop = ['SEX', 'LOAN_AMOUNT', 'LOAN_PURPOSE']\n",
        "y = ['ALLOW']\n",
        "\n",
        "full.fillna(\n",
        "    value = {\n",
        "        'CHECKING_BALANCE': 0\n",
        "        , 'EXISTING_SAVINGS': 0\n",
        "        , 'EXISTING_CREDITS_COUNT': 0\n",
        "        , 'JOB_TYPE': 0  #####\n",
        "        , 'DEPENDENTS': 0\n",
        "        , 'TELEPHONE': 0\n",
        "        , 'FOREING_WORKER': \"0\" \n",
        "        , 'EMPLOYMENT_DURATION': 0 \n",
        "        , 'CURRENT_RESIDENCE_DURATION': 0 \n",
        "        , 'CREDIT_HISTORY': 'NO_CREDITS'\n",
        "        , 'PROPERTY': 'UNKNOWN'\n",
        "        , 'HOUSING': 'FREE'\n",
        "        , 'INSTALLMENT_PLANS': 'NONE'\n",
        "        , 'OTHERS_ON_LOAN': 'NONE'\n",
        "    }\n",
        "    , inplace = True\n",
        ")\n",
        "full[mediana] = full[mediana].fillna(full[mediana].median())\n",
        "full['FOREIGN_WORKER'].fillna(0, inplace = True)"
      ],
      "execution_count": null,
      "outputs": []
    },
    {
      "cell_type": "code",
      "metadata": {
        "colab": {
          "base_uri": "https://localhost:8080/"
        },
        "id": "w5-fNyEDit_g",
        "outputId": "175e6af7-660f-4814-e893-b6124606863f"
      },
      "source": [
        "full.isnull().sum()"
      ],
      "execution_count": null,
      "outputs": [
        {
          "output_type": "execute_result",
          "data": {
            "text/plain": [
              "ID                             0\n",
              "CHECKING_BALANCE               0\n",
              "CREDIT_HISTORY                 0\n",
              "EXISTING_SAVINGS               0\n",
              "EXISTING_CREDITS_COUNT         0\n",
              "SEX                           79\n",
              "AGE                            0\n",
              "JOB_TYPE                       0\n",
              "DEPENDENTS                     0\n",
              "TELEPHONE                      0\n",
              "FOREIGN_WORKER                 0\n",
              "EMPLOYMENT_DURATION            0\n",
              "PROPERTY                       0\n",
              "HOUSING                        0\n",
              "CURRENT_RESIDENCE_DURATION     0\n",
              "PAYMENT_TERM                   0\n",
              "INSTALLMENT_PLANS              0\n",
              "INSTALLMENT_PERCENT            0\n",
              "LOAN_PURPOSE                  20\n",
              "LOAN_AMOUNT                   18\n",
              "OTHERS_ON_LOAN                 0\n",
              "ALLOW                          0\n",
              "dtype: int64"
            ]
          },
          "metadata": {},
          "execution_count": 71
        }
      ]
    },
    {
      "cell_type": "code",
      "metadata": {
        "colab": {
          "base_uri": "https://localhost:8080/",
          "height": 439
        },
        "id": "DNfhMcIJhzUA",
        "outputId": "767d5fb6-6a4f-4ae9-aa39-80b07d45109b"
      },
      "source": [
        "full = full.dropna()\n",
        "full"
      ],
      "execution_count": null,
      "outputs": [
        {
          "output_type": "execute_result",
          "data": {
            "text/html": [
              "<div>\n",
              "<style scoped>\n",
              "    .dataframe tbody tr th:only-of-type {\n",
              "        vertical-align: middle;\n",
              "    }\n",
              "\n",
              "    .dataframe tbody tr th {\n",
              "        vertical-align: top;\n",
              "    }\n",
              "\n",
              "    .dataframe thead th {\n",
              "        text-align: right;\n",
              "    }\n",
              "</style>\n",
              "<table border=\"1\" class=\"dataframe\">\n",
              "  <thead>\n",
              "    <tr style=\"text-align: right;\">\n",
              "      <th></th>\n",
              "      <th>ID</th>\n",
              "      <th>CHECKING_BALANCE</th>\n",
              "      <th>CREDIT_HISTORY</th>\n",
              "      <th>EXISTING_SAVINGS</th>\n",
              "      <th>EXISTING_CREDITS_COUNT</th>\n",
              "      <th>SEX</th>\n",
              "      <th>AGE</th>\n",
              "      <th>JOB_TYPE</th>\n",
              "      <th>DEPENDENTS</th>\n",
              "      <th>TELEPHONE</th>\n",
              "      <th>FOREIGN_WORKER</th>\n",
              "      <th>EMPLOYMENT_DURATION</th>\n",
              "      <th>PROPERTY</th>\n",
              "      <th>HOUSING</th>\n",
              "      <th>CURRENT_RESIDENCE_DURATION</th>\n",
              "      <th>PAYMENT_TERM</th>\n",
              "      <th>INSTALLMENT_PLANS</th>\n",
              "      <th>INSTALLMENT_PERCENT</th>\n",
              "      <th>LOAN_PURPOSE</th>\n",
              "      <th>LOAN_AMOUNT</th>\n",
              "      <th>OTHERS_ON_LOAN</th>\n",
              "      <th>ALLOW</th>\n",
              "    </tr>\n",
              "  </thead>\n",
              "  <tbody>\n",
              "    <tr>\n",
              "      <th>0</th>\n",
              "      <td>291655</td>\n",
              "      <td>-566.53</td>\n",
              "      <td>ALL_CREDITS_PAID_BACK</td>\n",
              "      <td>36.42</td>\n",
              "      <td>1.0</td>\n",
              "      <td>F</td>\n",
              "      <td>24.0</td>\n",
              "      <td>3.0</td>\n",
              "      <td>1.0</td>\n",
              "      <td>1.0</td>\n",
              "      <td>1.0</td>\n",
              "      <td>0.0</td>\n",
              "      <td>SAVINGS_INSURANCE</td>\n",
              "      <td>OWN</td>\n",
              "      <td>2.0</td>\n",
              "      <td>310.0</td>\n",
              "      <td>NONE</td>\n",
              "      <td>2.0</td>\n",
              "      <td>CAR_NEW</td>\n",
              "      <td>3503.0</td>\n",
              "      <td>NONE</td>\n",
              "      <td>1</td>\n",
              "    </tr>\n",
              "    <tr>\n",
              "      <th>1</th>\n",
              "      <td>657079</td>\n",
              "      <td>-1673.16</td>\n",
              "      <td>CREDITS_PAID_TO_DATE</td>\n",
              "      <td>22.90</td>\n",
              "      <td>1.0</td>\n",
              "      <td>F</td>\n",
              "      <td>30.0</td>\n",
              "      <td>3.0</td>\n",
              "      <td>1.0</td>\n",
              "      <td>0.0</td>\n",
              "      <td>1.0</td>\n",
              "      <td>5.0</td>\n",
              "      <td>CAR_OTHER</td>\n",
              "      <td>RENT</td>\n",
              "      <td>1.0</td>\n",
              "      <td>630.0</td>\n",
              "      <td>STORES</td>\n",
              "      <td>3.0</td>\n",
              "      <td>CAR_NEW</td>\n",
              "      <td>3729.0</td>\n",
              "      <td>NONE</td>\n",
              "      <td>1</td>\n",
              "    </tr>\n",
              "    <tr>\n",
              "      <th>2</th>\n",
              "      <td>256050</td>\n",
              "      <td>0.00</td>\n",
              "      <td>CREDITS_PAID_TO_DATE</td>\n",
              "      <td>450.35</td>\n",
              "      <td>2.0</td>\n",
              "      <td>M</td>\n",
              "      <td>40.0</td>\n",
              "      <td>3.0</td>\n",
              "      <td>1.0</td>\n",
              "      <td>0.0</td>\n",
              "      <td>1.0</td>\n",
              "      <td>4.0</td>\n",
              "      <td>UNKNOWN</td>\n",
              "      <td>OWN</td>\n",
              "      <td>4.0</td>\n",
              "      <td>868.0</td>\n",
              "      <td>NONE</td>\n",
              "      <td>3.0</td>\n",
              "      <td>CAR_USED</td>\n",
              "      <td>8516.0</td>\n",
              "      <td>NONE</td>\n",
              "      <td>0</td>\n",
              "    </tr>\n",
              "    <tr>\n",
              "      <th>3</th>\n",
              "      <td>1039151</td>\n",
              "      <td>-1471.03</td>\n",
              "      <td>PRIOR_PAYMENTS_DELAYED</td>\n",
              "      <td>805.71</td>\n",
              "      <td>2.0</td>\n",
              "      <td>M</td>\n",
              "      <td>28.0</td>\n",
              "      <td>1.0</td>\n",
              "      <td>1.0</td>\n",
              "      <td>0.0</td>\n",
              "      <td>1.0</td>\n",
              "      <td>0.0</td>\n",
              "      <td>CAR_OTHER</td>\n",
              "      <td>OWN</td>\n",
              "      <td>3.0</td>\n",
              "      <td>403.0</td>\n",
              "      <td>BANK</td>\n",
              "      <td>3.0</td>\n",
              "      <td>FURNITURE</td>\n",
              "      <td>2577.0</td>\n",
              "      <td>NONE</td>\n",
              "      <td>1</td>\n",
              "    </tr>\n",
              "    <tr>\n",
              "      <th>4</th>\n",
              "      <td>1002660</td>\n",
              "      <td>0.00</td>\n",
              "      <td>CREDITS_PAID_TO_DATE</td>\n",
              "      <td>295.03</td>\n",
              "      <td>1.0</td>\n",
              "      <td>M</td>\n",
              "      <td>19.0</td>\n",
              "      <td>2.0</td>\n",
              "      <td>1.0</td>\n",
              "      <td>0.0</td>\n",
              "      <td>1.0</td>\n",
              "      <td>3.0</td>\n",
              "      <td>REAL_ESTATE</td>\n",
              "      <td>OWN</td>\n",
              "      <td>3.0</td>\n",
              "      <td>810.0</td>\n",
              "      <td>NONE</td>\n",
              "      <td>4.0</td>\n",
              "      <td>BUSINESS</td>\n",
              "      <td>3750.0</td>\n",
              "      <td>NONE</td>\n",
              "      <td>1</td>\n",
              "    </tr>\n",
              "    <tr>\n",
              "      <th>...</th>\n",
              "      <td>...</td>\n",
              "      <td>...</td>\n",
              "      <td>...</td>\n",
              "      <td>...</td>\n",
              "      <td>...</td>\n",
              "      <td>...</td>\n",
              "      <td>...</td>\n",
              "      <td>...</td>\n",
              "      <td>...</td>\n",
              "      <td>...</td>\n",
              "      <td>...</td>\n",
              "      <td>...</td>\n",
              "      <td>...</td>\n",
              "      <td>...</td>\n",
              "      <td>...</td>\n",
              "      <td>...</td>\n",
              "      <td>...</td>\n",
              "      <td>...</td>\n",
              "      <td>...</td>\n",
              "      <td>...</td>\n",
              "      <td>...</td>\n",
              "      <td>...</td>\n",
              "    </tr>\n",
              "    <tr>\n",
              "      <th>3931</th>\n",
              "      <td>582945</td>\n",
              "      <td>0.00</td>\n",
              "      <td>NO_CREDITS</td>\n",
              "      <td>0.00</td>\n",
              "      <td>0.0</td>\n",
              "      <td>M</td>\n",
              "      <td>38.0</td>\n",
              "      <td>3.0</td>\n",
              "      <td>1.0</td>\n",
              "      <td>0.0</td>\n",
              "      <td>1.0</td>\n",
              "      <td>9.0</td>\n",
              "      <td>SAVINGS_INSURANCE</td>\n",
              "      <td>OWN</td>\n",
              "      <td>4.0</td>\n",
              "      <td>713.0</td>\n",
              "      <td>NONE</td>\n",
              "      <td>4.0</td>\n",
              "      <td>FURNITURE</td>\n",
              "      <td>6959.0</td>\n",
              "      <td>NONE</td>\n",
              "      <td>0</td>\n",
              "    </tr>\n",
              "    <tr>\n",
              "      <th>3932</th>\n",
              "      <td>213735</td>\n",
              "      <td>0.00</td>\n",
              "      <td>NO_CREDITS</td>\n",
              "      <td>0.00</td>\n",
              "      <td>0.0</td>\n",
              "      <td>M</td>\n",
              "      <td>51.0</td>\n",
              "      <td>3.0</td>\n",
              "      <td>1.0</td>\n",
              "      <td>1.0</td>\n",
              "      <td>1.0</td>\n",
              "      <td>6.0</td>\n",
              "      <td>CAR_OTHER</td>\n",
              "      <td>OWN</td>\n",
              "      <td>4.0</td>\n",
              "      <td>806.0</td>\n",
              "      <td>NONE</td>\n",
              "      <td>4.0</td>\n",
              "      <td>RADIO_TV</td>\n",
              "      <td>6158.0</td>\n",
              "      <td>NONE</td>\n",
              "      <td>1</td>\n",
              "    </tr>\n",
              "    <tr>\n",
              "      <th>3933</th>\n",
              "      <td>988697</td>\n",
              "      <td>0.00</td>\n",
              "      <td>NO_CREDITS</td>\n",
              "      <td>0.00</td>\n",
              "      <td>0.0</td>\n",
              "      <td>M</td>\n",
              "      <td>31.0</td>\n",
              "      <td>1.0</td>\n",
              "      <td>1.0</td>\n",
              "      <td>0.0</td>\n",
              "      <td>1.0</td>\n",
              "      <td>2.0</td>\n",
              "      <td>SAVINGS_INSURANCE</td>\n",
              "      <td>OWN</td>\n",
              "      <td>2.0</td>\n",
              "      <td>540.0</td>\n",
              "      <td>STORES</td>\n",
              "      <td>3.0</td>\n",
              "      <td>CAR_NEW</td>\n",
              "      <td>1939.0</td>\n",
              "      <td>NONE</td>\n",
              "      <td>1</td>\n",
              "    </tr>\n",
              "    <tr>\n",
              "      <th>3934</th>\n",
              "      <td>337934</td>\n",
              "      <td>0.00</td>\n",
              "      <td>NO_CREDITS</td>\n",
              "      <td>0.00</td>\n",
              "      <td>0.0</td>\n",
              "      <td>M</td>\n",
              "      <td>21.0</td>\n",
              "      <td>1.0</td>\n",
              "      <td>1.0</td>\n",
              "      <td>0.0</td>\n",
              "      <td>1.0</td>\n",
              "      <td>0.0</td>\n",
              "      <td>SAVINGS_INSURANCE</td>\n",
              "      <td>RENT</td>\n",
              "      <td>2.0</td>\n",
              "      <td>124.0</td>\n",
              "      <td>STORES</td>\n",
              "      <td>3.0</td>\n",
              "      <td>RADIO_TV</td>\n",
              "      <td>2401.0</td>\n",
              "      <td>NONE</td>\n",
              "      <td>1</td>\n",
              "    </tr>\n",
              "    <tr>\n",
              "      <th>3935</th>\n",
              "      <td>676562</td>\n",
              "      <td>0.00</td>\n",
              "      <td>NO_CREDITS</td>\n",
              "      <td>0.00</td>\n",
              "      <td>0.0</td>\n",
              "      <td>F</td>\n",
              "      <td>47.0</td>\n",
              "      <td>0.0</td>\n",
              "      <td>1.0</td>\n",
              "      <td>1.0</td>\n",
              "      <td>1.0</td>\n",
              "      <td>5.0</td>\n",
              "      <td>CAR_OTHER</td>\n",
              "      <td>OWN</td>\n",
              "      <td>3.0</td>\n",
              "      <td>806.0</td>\n",
              "      <td>BANK</td>\n",
              "      <td>3.0</td>\n",
              "      <td>FURNITURE</td>\n",
              "      <td>5092.0</td>\n",
              "      <td>CO-APPLICANT</td>\n",
              "      <td>1</td>\n",
              "    </tr>\n",
              "  </tbody>\n",
              "</table>\n",
              "<p>3883 rows × 22 columns</p>\n",
              "</div>"
            ],
            "text/plain": [
              "           ID  CHECKING_BALANCE  ... OTHERS_ON_LOAN  ALLOW\n",
              "0      291655           -566.53  ...           NONE      1\n",
              "1      657079          -1673.16  ...           NONE      1\n",
              "2      256050              0.00  ...           NONE      0\n",
              "3     1039151          -1471.03  ...           NONE      1\n",
              "4     1002660              0.00  ...           NONE      1\n",
              "...       ...               ...  ...            ...    ...\n",
              "3931   582945              0.00  ...           NONE      0\n",
              "3932   213735              0.00  ...           NONE      1\n",
              "3933   988697              0.00  ...           NONE      1\n",
              "3934   337934              0.00  ...           NONE      1\n",
              "3935   676562              0.00  ...   CO-APPLICANT      1\n",
              "\n",
              "[3883 rows x 22 columns]"
            ]
          },
          "metadata": {},
          "execution_count": 72
        }
      ]
    },
    {
      "cell_type": "code",
      "metadata": {
        "colab": {
          "base_uri": "https://localhost:8080/"
        },
        "id": "Tg43-XixkYUG",
        "outputId": "4030698b-007a-403b-d516-13d7c757e9f3"
      },
      "source": [
        "full.isna().sum()"
      ],
      "execution_count": null,
      "outputs": [
        {
          "output_type": "execute_result",
          "data": {
            "text/plain": [
              "ID                            0\n",
              "CHECKING_BALANCE              0\n",
              "CREDIT_HISTORY                0\n",
              "EXISTING_SAVINGS              0\n",
              "EXISTING_CREDITS_COUNT        0\n",
              "SEX                           0\n",
              "AGE                           0\n",
              "JOB_TYPE                      0\n",
              "DEPENDENTS                    0\n",
              "TELEPHONE                     0\n",
              "FOREIGN_WORKER                0\n",
              "EMPLOYMENT_DURATION           0\n",
              "PROPERTY                      0\n",
              "HOUSING                       0\n",
              "CURRENT_RESIDENCE_DURATION    0\n",
              "PAYMENT_TERM                  0\n",
              "INSTALLMENT_PLANS             0\n",
              "INSTALLMENT_PERCENT           0\n",
              "LOAN_PURPOSE                  0\n",
              "LOAN_AMOUNT                   0\n",
              "OTHERS_ON_LOAN                0\n",
              "ALLOW                         0\n",
              "dtype: int64"
            ]
          },
          "metadata": {},
          "execution_count": 73
        }
      ]
    },
    {
      "cell_type": "code",
      "metadata": {
        "id": "__7IrZygkiE9"
      },
      "source": [
        "features = [\n",
        "  \"CHECKING_BALANCE\",               # Saldo que posee el cliente en su cuenta corriente\n",
        "  \"PAYMENT_TERM\",                   # Cantidad de días que el cvliente posee para pagar el préstamo\n",
        "  \"CREDIT_HISTORY\",                 # Situación crediticia pasada del cliente\n",
        "  \"LOAN_PURPOSE\",                   # Motivo del préstamo\n",
        "  \"LOAN_AMOUNT\",                    # Monto del préstamo\n",
        "  \"EXISTING_SAVINGS\",               # Saldo de cuenta de ahorros\n",
        "  \"EMPLOYMENT_DURATION\",            # Cuántos años ha permanecido el cliente en su empleo\n",
        "  \"INSTALLMENT_PERCENT\",            # Cantidad de cuotas en las que el préstamo debe ser pagado\n",
        "  \"SEX\",                            # Sexo del cliente\n",
        "  \"OTHERS_ON_LOAN\",                 # Denota la existencia de un garante u otro solicitante del préstamo\n",
        "  \"CURRENT_RESIDENCE_DURATION\",     # Años que el cliente ha permanecido en su última residencia\n",
        "  \"PROPERTY\",                       # Indica si el cliente posee alguna propiedad a su nombre\n",
        "  \"AGE\",                            # Edad del cliente\n",
        "  \"INSTALLMENT_PLANS\",              # Plan de financiamiento, que puede ser del banco, externo o ninguno\n",
        "  \"HOUSING\",                        # Indica si el cliente posee una casa propia\n",
        "  \"EXISTING_CREDITS_COUNT\",         # Número de préstamos que le han sido concedidos al cliente en el pasado\n",
        "  \"JOB_TYPE\",                       # Tipo de empleo: 0 - desempleado, 1 - no calificado, 2 - autónomo, 3 - calificado\n",
        "  \"DEPENDENTS\",                     # Número de personas con acceso a la cuenta\n",
        "  \"TELEPHONE\",                      # Denota si el cliente tiene un número de teléfono registrado\n",
        "  \"FOREIGN_WORKER\"                  # Denota si el cliente trabaja en un país fuera del banco\n",
        "]\n",
        "target = ['ALLOW']"
      ],
      "execution_count": null,
      "outputs": []
    },
    {
      "cell_type": "code",
      "metadata": {
        "id": "hYRTH3uJl2A_"
      },
      "source": [
        "x =  pds.get_dummies(full[features])\n",
        "y = full[target]"
      ],
      "execution_count": null,
      "outputs": []
    },
    {
      "cell_type": "markdown",
      "metadata": {
        "id": "-0XWm4JzmLTg"
      },
      "source": [
        "# split model"
      ]
    },
    {
      "cell_type": "code",
      "metadata": {
        "id": "iQ26kkbQmX7V"
      },
      "source": [
        "from sklearn.ensemble import RandomForestClassifier, GradientBoostingClassifier\n",
        "from sklearn.tree import DecisionTreeClassifier \n",
        "from sklearn.naive_bayes import GaussianNB \n",
        "from sklearn.linear_model import SGDClassifier\n",
        "from sklearn.svm import SVC\n",
        "from sklearn.linear_model import LogisticRegression\n",
        "from sklearn.model_selection import train_test_split\n",
        "from sklearn.metrics import accuracy_score, f1_score\n",
        "\n",
        "x_train, x_test, y_train, y_test = train_test_split(x, y, test_size = 0.45, random_state = 23)"
      ],
      "execution_count": null,
      "outputs": []
    },
    {
      "cell_type": "markdown",
      "metadata": {
        "id": "yiPJH_hlp_4H"
      },
      "source": [
        "### preprocesamiento\n",
        "\n"
      ]
    },
    {
      "cell_type": "code",
      "metadata": {
        "id": "2t7lHbsyqCQq"
      },
      "source": [
        "from sklearn.preprocessing import StandardScaler\n",
        "scaler = StandardScaler()\n",
        "x_train = scaler.fit_transform(x_train)\n",
        "x_test = scaler.transform(x_test)\n"
      ],
      "execution_count": null,
      "outputs": []
    },
    {
      "cell_type": "markdown",
      "metadata": {
        "id": "NQmKBp_0v9Rq"
      },
      "source": [
        "### TREE"
      ]
    },
    {
      "cell_type": "code",
      "metadata": {
        "colab": {
          "base_uri": "https://localhost:8080/"
        },
        "id": "JrrBS8gKvTF7",
        "outputId": "2b0a7b30-3792-4f67-e6ab-9042aa232197"
      },
      "source": [
        "tr_model = DecisionTreeClassifier(max_depth=2)\n",
        "tr_model.fit(x_train, y_train)\n",
        "\n",
        "y_pred = tr_model.predict(x_test)\n",
        "\n",
        "f11 = accuracy_score(y_test, y_pred)\n",
        "f12 = f1_score(y_test, y_pred)\n",
        "\n",
        "print(\"acc: {0}\\nf1: {1}\".format(f11, f12))"
      ],
      "execution_count": null,
      "outputs": [
        {
          "output_type": "stream",
          "name": "stdout",
          "text": [
            "acc: 0.7294050343249427\n",
            "f1: 0.8225140712945591\n"
          ]
        }
      ]
    },
    {
      "cell_type": "markdown",
      "metadata": {
        "id": "Rub7nG3Uv6fb"
      },
      "source": [
        "#### RF"
      ]
    },
    {
      "cell_type": "code",
      "metadata": {
        "colab": {
          "base_uri": "https://localhost:8080/"
        },
        "id": "-PLSaF9am_Xw",
        "outputId": "792555b3-6777-487c-b44b-be4e58b0b4d3"
      },
      "source": [
        "rf_model = RandomForestClassifier(n_estimators = 100, max_depth = 30, random_state = 3)\n",
        "rf_model.fit(x_train, y_train)\n",
        "\n",
        "y_pred = rf_model.predict(x_test)\n",
        "f11 = accuracy_score(y_test, y_pred)\n",
        "f12 = f1_score(y_test, y_pred)\n",
        "\n",
        "print(\"acc: {0}\\nf1: {1}\".format(f11, f12))"
      ],
      "execution_count": null,
      "outputs": [
        {
          "output_type": "stream",
          "name": "stderr",
          "text": [
            "/usr/local/lib/python3.7/dist-packages/ipykernel_launcher.py:2: DataConversionWarning: A column-vector y was passed when a 1d array was expected. Please change the shape of y to (n_samples,), for example using ravel().\n",
            "  \n"
          ]
        },
        {
          "output_type": "stream",
          "name": "stdout",
          "text": [
            "acc: 0.790045766590389\n",
            "f1: 0.8480331262939959\n"
          ]
        }
      ]
    },
    {
      "cell_type": "code",
      "metadata": {
        "id": "klp14GrBbnUl",
        "colab": {
          "base_uri": "https://localhost:8080/"
        },
        "outputId": "3bf4639e-f5e1-4c6f-b6e4-aba847c7d3a4"
      },
      "source": [
        "rf_model1 = RandomForestClassifier(n_estimators = 500, max_leaf_nodes = 16, max_depth = 30, n_jobs = -1,  random_state = 3)\n",
        "rf_model1.fit(x_train, y_train)\n",
        "\n",
        "y_pred = rf_model1.predict(x_test)\n",
        "f11 = accuracy_score(y_test, y_pred)\n",
        "f12 = f1_score(y_test, y_pred)\n",
        "\n",
        "print(\"acc: {0}\\nf1: {1}\".format(f11, f12))"
      ],
      "execution_count": null,
      "outputs": [
        {
          "output_type": "stream",
          "name": "stderr",
          "text": [
            "/usr/local/lib/python3.7/dist-packages/ipykernel_launcher.py:2: DataConversionWarning: A column-vector y was passed when a 1d array was expected. Please change the shape of y to (n_samples,), for example using ravel().\n",
            "  \n"
          ]
        },
        {
          "output_type": "stream",
          "name": "stdout",
          "text": [
            "acc: 0.7808924485125858\n",
            "f1: 0.8453774727492934\n"
          ]
        }
      ]
    },
    {
      "cell_type": "markdown",
      "metadata": {
        "id": "pemPZYa9wZIV"
      },
      "source": [
        "### GBC"
      ]
    },
    {
      "cell_type": "code",
      "metadata": {
        "colab": {
          "base_uri": "https://localhost:8080/"
        },
        "id": "sTjvyEjnwcCD",
        "outputId": "679233ec-57dc-4838-97c9-64c83a214799"
      },
      "source": [
        "gbc_model = GradientBoostingClassifier()\n",
        "gbc_model.fit(x_train, y_train)\n",
        "y_pred = gbc_model.predict(x_test)\n",
        "f11 = accuracy_score(y_test, y_pred)\n",
        "f12 = f1_score(y_test, y_pred)\n",
        "\n",
        "print(\"acc: {0}\\nf1: {1}\".format(f11, f12))"
      ],
      "execution_count": null,
      "outputs": [
        {
          "output_type": "stream",
          "name": "stderr",
          "text": [
            "/usr/local/lib/python3.7/dist-packages/sklearn/ensemble/_gb.py:494: DataConversionWarning: A column-vector y was passed when a 1d array was expected. Please change the shape of y to (n_samples, ), for example using ravel().\n",
            "  y = column_or_1d(y, warn=True)\n"
          ]
        },
        {
          "output_type": "stream",
          "name": "stdout",
          "text": [
            "acc: 0.7860411899313501\n",
            "f1: 0.8451986754966888\n"
          ]
        }
      ]
    },
    {
      "cell_type": "markdown",
      "metadata": {
        "id": "yOJTFvAHwzUU"
      },
      "source": [
        "### tune"
      ]
    },
    {
      "cell_type": "code",
      "metadata": {
        "colab": {
          "base_uri": "https://localhost:8080/"
        },
        "id": "F6ovHJ1IwyPy",
        "outputId": "4ff1172f-f1f2-4eef-dffb-6ca684bd0091"
      },
      "source": [
        "gbc_model_t = GradientBoostingClassifier(n_estimators=40, random_state=23)\n",
        "gbc_model_t.fit(x_train, y_train)\n",
        "y_pred = gbc_model.predict(x_test)\n",
        "f11 = accuracy_score(y_test, y_pred)\n",
        "f12 = f1_score(y_test, y_pred)\n",
        "\n",
        "print(\"acc: {0}\\nf1: {1}\".format(f11, f12))\n"
      ],
      "execution_count": null,
      "outputs": [
        {
          "output_type": "stream",
          "name": "stderr",
          "text": [
            "/usr/local/lib/python3.7/dist-packages/sklearn/ensemble/_gb.py:494: DataConversionWarning: A column-vector y was passed when a 1d array was expected. Please change the shape of y to (n_samples, ), for example using ravel().\n",
            "  y = column_or_1d(y, warn=True)\n"
          ]
        },
        {
          "output_type": "stream",
          "name": "stdout",
          "text": [
            "acc: 0.7860411899313501\n",
            "f1: 0.8451986754966888\n"
          ]
        }
      ]
    },
    {
      "cell_type": "markdown",
      "metadata": {
        "id": "CvRvWTuvxPsm"
      },
      "source": [
        "## NBC"
      ]
    },
    {
      "cell_type": "code",
      "metadata": {
        "colab": {
          "base_uri": "https://localhost:8080/"
        },
        "id": "HkrCwx_SxSub",
        "outputId": "e34865f5-529a-4da6-cc4e-6879a8ca6475"
      },
      "source": [
        "nb_model = GaussianNB()\n",
        "nb_model.fit(x_train, y_train)\n",
        "y_pred = nb_model.predict(x_test)\n",
        "f11 = accuracy_score(y_test, y_pred)\n",
        "f12 = f1_score(y_test, y_pred)\n",
        "\n",
        "print(\"acc: {0}\\nf1: {1}\".format(f11, f12))"
      ],
      "execution_count": null,
      "outputs": [
        {
          "output_type": "stream",
          "name": "stdout",
          "text": [
            "acc: 0.7517162471395881\n",
            "f1: 0.802547770700637\n"
          ]
        },
        {
          "output_type": "stream",
          "name": "stderr",
          "text": [
            "/usr/local/lib/python3.7/dist-packages/sklearn/utils/validation.py:985: DataConversionWarning: A column-vector y was passed when a 1d array was expected. Please change the shape of y to (n_samples, ), for example using ravel().\n",
            "  y = column_or_1d(y, warn=True)\n"
          ]
        }
      ]
    },
    {
      "cell_type": "markdown",
      "metadata": {
        "id": "Gl4nt84AxoIT"
      },
      "source": [
        "## Logistic"
      ]
    },
    {
      "cell_type": "code",
      "metadata": {
        "colab": {
          "base_uri": "https://localhost:8080/"
        },
        "id": "RcAGJQNRxp-0",
        "outputId": "4a7d5809-7d30-4cd9-8ab8-cecc5cd045ed"
      },
      "source": [
        "lg_model = LogisticRegression()\n",
        "lg_model.fit(x_train, y_train)\n",
        "y_pred = lg_model.predict(x_test)\n",
        "f11 = accuracy_score(y_test, y_pred)\n",
        "f12 = f1_score(y_test, y_pred)\n",
        "\n",
        "print(\"acc: {0}\\nf1: {1}\".format(f11, f12))"
      ],
      "execution_count": null,
      "outputs": [
        {
          "output_type": "stream",
          "name": "stdout",
          "text": [
            "acc: 0.7768878718535469\n",
            "f1: 0.8355817875210793\n"
          ]
        },
        {
          "output_type": "stream",
          "name": "stderr",
          "text": [
            "/usr/local/lib/python3.7/dist-packages/sklearn/utils/validation.py:985: DataConversionWarning: A column-vector y was passed when a 1d array was expected. Please change the shape of y to (n_samples, ), for example using ravel().\n",
            "  y = column_or_1d(y, warn=True)\n"
          ]
        }
      ]
    },
    {
      "cell_type": "markdown",
      "metadata": {
        "id": "U5qTj3_4yJUl"
      },
      "source": [
        "## SVM"
      ]
    },
    {
      "cell_type": "code",
      "metadata": {
        "colab": {
          "base_uri": "https://localhost:8080/"
        },
        "id": "wmesH5M2yH8d",
        "outputId": "a47d77fe-5082-4243-95a1-ab6c7bb265b1"
      },
      "source": [
        "svm_model = SVC(probability=True)\n",
        "svm_model.fit(x_train, y_train)\n",
        "y_pred = svm_model.predict(x_test)\n",
        "f11 = accuracy_score(y_test, y_pred)\n",
        "f12 = f1_score(y_test, y_pred)\n",
        "\n",
        "print(\"acc: {0}\\nf1: {1}\".format(f11, f12))"
      ],
      "execution_count": null,
      "outputs": [
        {
          "output_type": "stream",
          "name": "stderr",
          "text": [
            "/usr/local/lib/python3.7/dist-packages/sklearn/utils/validation.py:985: DataConversionWarning: A column-vector y was passed when a 1d array was expected. Please change the shape of y to (n_samples, ), for example using ravel().\n",
            "  y = column_or_1d(y, warn=True)\n"
          ]
        },
        {
          "output_type": "stream",
          "name": "stdout",
          "text": [
            "acc: 0.7860411899313501\n",
            "f1: 0.8468468468468469\n"
          ]
        }
      ]
    },
    {
      "cell_type": "markdown",
      "metadata": {
        "id": "AYFKyJuY3HZ1"
      },
      "source": [
        "### SGD"
      ]
    },
    {
      "cell_type": "code",
      "metadata": {
        "colab": {
          "base_uri": "https://localhost:8080/"
        },
        "id": "L49lJFr63JI1",
        "outputId": "37ed256e-5c4f-4375-d35e-86592d04c00c"
      },
      "source": [
        "sgd_model = SGDClassifier(random_state=3)\n",
        "sgd_model.fit(x_train, y_train)\n",
        "y_pred = sgd_model.predict(x_test)\n",
        "\n",
        "f11 = accuracy_score(y_test, y_pred)\n",
        "f12 = f1_score(y_test, y_pred)\n",
        "\n",
        "print(\"acc: {0}\\nf1: {1}\".format(f11, f12))"
      ],
      "execution_count": null,
      "outputs": [
        {
          "output_type": "stream",
          "name": "stdout",
          "text": [
            "acc: 0.744279176201373\n",
            "f1: 0.7952359138799816\n"
          ]
        },
        {
          "output_type": "stream",
          "name": "stderr",
          "text": [
            "/usr/local/lib/python3.7/dist-packages/sklearn/utils/validation.py:985: DataConversionWarning: A column-vector y was passed when a 1d array was expected. Please change the shape of y to (n_samples, ), for example using ravel().\n",
            "  y = column_or_1d(y, warn=True)\n"
          ]
        }
      ]
    },
    {
      "cell_type": "markdown",
      "metadata": {
        "id": "rAM_OOjH7HRo"
      },
      "source": [
        "### Bagging"
      ]
    },
    {
      "cell_type": "code",
      "metadata": {
        "id": "KM2-l2lRaf0I",
        "colab": {
          "base_uri": "https://localhost:8080/"
        },
        "outputId": "120feceb-f677-4444-f10e-38ce1863008b"
      },
      "source": [
        "from sklearn.ensemble import BaggingClassifier\n",
        "bag_clf = BaggingClassifier(\n",
        "    DecisionTreeClassifier(), n_estimators = 500,\n",
        "    max_samples = 100, bootstrap = True, n_jobs = -1\n",
        ")\n",
        "bag_clf.fit(x_train, y_train)\n",
        "y_pred = bag_clf.predict(x_test)\n",
        "f11 = accuracy_score(y_test, y_pred)\n",
        "f12 = f1_score(y_test, y_pred)\n",
        "\n",
        "print(\"acc: {0}\\nf1: {1}\".format(f11, f12))"
      ],
      "execution_count": null,
      "outputs": [
        {
          "output_type": "stream",
          "name": "stderr",
          "text": [
            "/usr/local/lib/python3.7/dist-packages/sklearn/ensemble/_bagging.py:719: DataConversionWarning: A column-vector y was passed when a 1d array was expected. Please change the shape of y to (n_samples, ), for example using ravel().\n",
            "  y = column_or_1d(y, warn=True)\n"
          ]
        },
        {
          "output_type": "stream",
          "name": "stdout",
          "text": [
            "acc: 0.7780320366132724\n",
            "f1: 0.8387364921030757\n"
          ]
        }
      ]
    },
    {
      "cell_type": "markdown",
      "metadata": {
        "id": "mrAOBkEDj8pU"
      },
      "source": [
        "### PIpelines "
      ]
    },
    {
      "cell_type": "code",
      "metadata": {
        "id": "vxjRZi0tj_OL"
      },
      "source": [
        "from sklearn.base import BaseEstimator, TransformerMixin\n",
        "from sklearn.pipeline import Pipeline\n",
        "# Un transformador para remover columnas indeseadas\n",
        "class DropColumns(BaseEstimator, TransformerMixin):\n",
        "    def __init__(self, columns):\n",
        "        self.columns = columns\n",
        "\n",
        "    def fit(self, x, y=None):\n",
        "        return self\n",
        "\n",
        "    def transform(self, x):\n",
        "        # Primero realizamos la cópia del DataFrame 'X' de entrada\n",
        "        data = x.copy()\n",
        "        # Retornamos um nuevo dataframe sin las colunmas indeseadas\n",
        "        return data.drop(labels=self.columns, axis='columns')"
      ],
      "execution_count": null,
      "outputs": []
    },
    {
      "cell_type": "code",
      "metadata": {
        "id": "nfPn7bYVkoof"
      },
      "source": [
        "challenge_columns = ['ID', 'CHECKING_BALANCE', 'PAYMENT_TERM', 'CREDIT_HISTORY',\n",
        "       'LOAN_PURPOSE', 'LOAN_AMOUNT', 'EXISTING_SAVINGS',\n",
        "       'EMPLOYMENT_DURATION', 'INSTALLMENT_PERCENT', 'SEX', 'OTHERS_ON_LOAN',\n",
        "       'CURRENT_RESIDENCE_DURATION', 'PROPERTY', 'AGE', 'INSTALLMENT_PLANS',\n",
        "       'HOUSING', 'EXISTING_CREDITS_COUNT', 'JOB_TYPE', 'DEPENDENTS',\n",
        "       'TELEPHONE', 'FOREIGN_WORKER', 'ALLOW']\n",
        "\n",
        "unwanted_columns = list((set(challenge_columns) - set(target)) - set(features)) # Remover todas las colunmas que no son features do nuestro modelo"
      ],
      "execution_count": null,
      "outputs": []
    },
    {
      "cell_type": "code",
      "metadata": {
        "id": "C-H_8uPsk0mf"
      },
      "source": [
        "drop_columns = DropColumns(unwanted_columns)\n",
        "\n",
        "\n",
        "# Creando un Pipeline, adicionando nuestro transformador seguido de un modelo de árbol de decisión\n",
        "skl_pipeline = Pipeline(steps=[('drop_columns', drop_columns), ('classification', model)])"
      ],
      "execution_count": null,
      "outputs": []
    },
    {
      "cell_type": "code",
      "metadata": {
        "id": "Hw-HsvXclJpq",
        "colab": {
          "base_uri": "https://localhost:8080/"
        },
        "outputId": "91698493-15b4-4cef-fe52-874959a3c3f4"
      },
      "source": [
        "skl_pipeline"
      ],
      "execution_count": null,
      "outputs": [
        {
          "output_type": "execute_result",
          "data": {
            "text/plain": [
              "Pipeline(steps=[('drop_columns',\n",
              "                 DropColumns(columns=['DEPENDENTS', 'EXISTING_CREDITS_COUNT',\n",
              "                                      'LOAN_PURPOSE', 'FOREIGN_WORKER', 'ID',\n",
              "                                      'EMPLOYMENT_DURATION', 'PROPERTY', 'AGE',\n",
              "                                      'EXISTING_SAVINGS', 'OTHERS_ON_LOAN',\n",
              "                                      'CREDIT_HISTORY',\n",
              "                                      'CURRENT_RESIDENCE_DURATION',\n",
              "                                      'INSTALLMENT_PLANS', 'HOUSING',\n",
              "                                      'JOB_TYPE', 'CHECKING_BALANCE',\n",
              "                                      'TELEPHONE', 'SEX'])),\n",
              "                ('classification', DecisionTreeClassifier())])"
            ]
          },
          "metadata": {},
          "execution_count": 49
        }
      ]
    }
  ]
}