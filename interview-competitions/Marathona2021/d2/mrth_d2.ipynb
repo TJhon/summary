{
  "nbformat": 4,
  "nbformat_minor": 0,
  "metadata": {
    "colab": {
      "name": "mrth-d2",
      "provenance": [],
      "collapsed_sections": []
    },
    "kernelspec": {
      "name": "python3",
      "display_name": "Python 3"
    },
    "language_info": {
      "name": "python"
    }
  },
  "cells": [
    {
      "cell_type": "markdown",
      "metadata": {
        "id": "yfcvxtHUzDGf"
      },
      "source": [
        "# Datos"
      ]
    },
    {
      "cell_type": "code",
      "metadata": {
        "id": "H3b16o3Fbo1c"
      },
      "source": [
        "import pandas as pd"
      ],
      "execution_count": 1,
      "outputs": []
    },
    {
      "cell_type": "code",
      "metadata": {
        "id": "-nif35DUcG2j"
      },
      "source": [
        "full = pd.read_csv(\"https://raw.githubusercontent.com/TJhon/maratona/main/d2/clean_data.csv\")\n",
        "answ = pd.read_csv(\"https://raw.githubusercontent.com/maratonadev/desafio-2-2021/main/assets/answers.csv\")\n",
        "#full.info()\n",
        "#answ.info()"
      ],
      "execution_count": 2,
      "outputs": []
    },
    {
      "cell_type": "code",
      "metadata": {
        "id": "PEvWghMCkkD7"
      },
      "source": [
        "features = ['ILLUM', 'HUMID', 'CO2', 'SOUND', 'TEMP']\n",
        "target = ['RYTHM']"
      ],
      "execution_count": 3,
      "outputs": []
    },
    {
      "cell_type": "markdown",
      "metadata": {
        "id": "5W1HXTCNzK6p"
      },
      "source": [
        "## Caracteristicas"
      ]
    },
    {
      "cell_type": "code",
      "metadata": {
        "id": "JMNabhnF3oZc"
      },
      "source": [
        "x = full[features]\n",
        "y = full[target]"
      ],
      "execution_count": 4,
      "outputs": []
    },
    {
      "cell_type": "markdown",
      "metadata": {
        "id": "dHj0V49HzPiX"
      },
      "source": [
        "# Modelos\n"
      ]
    },
    {
      "cell_type": "code",
      "metadata": {
        "id": "p6xXat6uzO2e"
      },
      "source": [
        "from sklearn.linear_model import ElasticNet, Lasso,  BayesianRidge, LassoLarsIC\n",
        "from sklearn.ensemble import RandomForestRegressor,  GradientBoostingRegressor\n",
        "from sklearn.kernel_ridge import KernelRidge\n",
        "from sklearn.pipeline import make_pipeline\n",
        "from sklearn.preprocessing import RobustScaler\n",
        "from sklearn.base import BaseEstimator, TransformerMixin, RegressorMixin, clone\n",
        "from sklearn.model_selection import KFold, cross_val_score, train_test_split\n",
        "from sklearn.metrics import r2_score as r2\n",
        "from sklearn.linear_model import LinearRegression\n",
        "# from sklearn.model_selection import train_test_split\n",
        "import xgboost as xgb\n",
        "import lightgbm as lgb\n",
        "\n",
        "from sklearn.linear_model import Ridge"
      ],
      "execution_count": 5,
      "outputs": []
    },
    {
      "cell_type": "code",
      "metadata": {
        "id": "SBAVGhplw1H8"
      },
      "source": [
        "\n",
        "from sklearn.preprocessing import StandardScaler\n",
        "\n",
        "#sclr = StandardScaler()\n",
        "#x_train = sclr.fit_transform(x_train)\n",
        "#x_test = sclr.transform(x_test)\n",
        "#answer_pred = sclr.fit_transform(answer_pred)\n"
      ],
      "execution_count": 6,
      "outputs": []
    },
    {
      "cell_type": "code",
      "metadata": {
        "id": "s3-8Cqh63dNu"
      },
      "source": [
        "x_train, x_test, y_train, y_test = train_test_split(x, y, test_size = 0.45, random_state = 23)"
      ],
      "execution_count": 7,
      "outputs": []
    },
    {
      "cell_type": "code",
      "metadata": {
        "id": "srwYfWMT1zyP"
      },
      "source": [
        "rs = 1\n",
        "lm = LinearRegression()\n",
        "lasso = make_pipeline(RobustScaler(), Lasso(alpha = 0.0005, random_state = rs))\n",
        "enet = make_pipeline(RobustScaler(), ElasticNet(alpha = 0.0005, l1_ratio = .4, random_state = rs))\n",
        "#krr = KernelRidge(alpha = 0.6, kernel = \"polinomial\", degree = 2, coef0 = 2.5)\n",
        "gbost = GradientBoostingRegressor(\n",
        "    n_estimators = 3000, learning_rate = 0.05\n",
        "    , max_depth = 4, max_features = \"sqrt\"\n",
        "    , min_samples_leaf = 15, min_samples_split = 10\n",
        "    , loss = 'huber', random_state = rs\n",
        ")\n",
        "lgb_md = lgb.LGBMRegressor(\n",
        "    objetive = \"regression\", num_leaves = 5, learning_rate = 0.05,\n",
        "    n_estimators = 500, max_bin = 55, bagging_fraction = 0.8,\n",
        "    bagging_freq = 5, feature_fraction = 0.2319\n",
        "    , feature_fraction_seed = 9, bagging_seed = 9\n",
        "    , min_data_in_leaf = 6, min_sum_hessian_in_leaf = 11\n",
        ")\n",
        "\n",
        "model_xgb = xgb.XGBRegressor()\n",
        "ridge = Ridge(\n",
        "    alpha=0.5848729102193255,\n",
        "    copy_X=False,\n",
        "    max_iter=46,\n",
        "    random_state=33,\n",
        "    solver=\"sag\",\n",
        "    tol=0.004677115268539831,\n",
        ")\n",
        "\n"
      ],
      "execution_count": 8,
      "outputs": []
    },
    {
      "cell_type": "markdown",
      "metadata": {
        "id": "i69JGBmW449n"
      },
      "source": [
        "## Fit"
      ]
    },
    {
      "cell_type": "code",
      "metadata": {
        "id": "7BHkhRKNXEDQ"
      },
      "source": [
        ""
      ],
      "execution_count": 8,
      "outputs": []
    },
    {
      "cell_type": "code",
      "metadata": {
        "id": "BvdWjkmb461k"
      },
      "source": [
        "def r_2(model):\n",
        "  model.fit(x_train, y_train)\n",
        "  y_pred = model.predict(x_test)\n",
        "  r_2 = r2(y_test, y_pred)\n",
        "  print(r_2 )\n"
      ],
      "execution_count": 9,
      "outputs": []
    },
    {
      "cell_type": "code",
      "metadata": {
        "colab": {
          "base_uri": "https://localhost:8080/"
        },
        "id": "qt1AZxvx5gpU",
        "outputId": "e38bd5eb-524a-4981-c3a1-95d1f27fd105"
      },
      "source": [
        "r_2(lm)\n",
        "#r_2(lasso)\n",
        "#r_2(enet)\n",
        "##r_2(krr)\n",
        "##r_2(gbost)\n",
        "#r_2(lgb_md)\n",
        "#r_2(model_xgb)\n",
        "#r_2(ridge)\n",
        "\n"
      ],
      "execution_count": 11,
      "outputs": [
        {
          "output_type": "stream",
          "name": "stdout",
          "text": [
            "0.21376764887651634\n"
          ]
        }
      ]
    },
    {
      "cell_type": "code",
      "metadata": {
        "id": "x4Nf6EAJnImD"
      },
      "source": [
        "answ[target] = lm.fit(x_train, y_train).predict(answ[features])"
      ],
      "execution_count": 16,
      "outputs": []
    },
    {
      "cell_type": "code",
      "metadata": {
        "id": "fsjcl04eDOIP"
      },
      "source": [
        "answ.to_csv(\"d2.csv\", index = False)"
      ],
      "execution_count": 18,
      "outputs": []
    }
  ]
}