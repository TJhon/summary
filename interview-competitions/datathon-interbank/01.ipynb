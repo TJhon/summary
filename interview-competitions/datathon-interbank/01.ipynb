{
 "cells": [
  {
   "cell_type": "markdown",
   "metadata": {
    "papermill": {
     "duration": 0.015478,
     "end_time": "2020-12-19T16:06:47.387996",
     "exception": false,
     "start_time": "2020-12-19T16:06:47.372518",
     "status": "completed"
    },
    "tags": []
   },
   "source": [
    "# Script para generar la solución del Primer Benchmark de la Competencia\n",
    "\n",
    "## Si no presentaste aún tu primera solución, tenes la oportunidad de hacerlo en pocos Clicks!\n",
    "\n",
    "**Hola! **  \n",
    "  \n",
    "Este Script es un Ejemplo de Procesamiento de los Datos, Modelado y Generación de una Solución.\n",
    "\n",
    "Agregamos una pequeña explicación de lo que se hace en cada paso para ayudar a los que están comenzando ahora\n"
   ]
  },
  {
   "cell_type": "markdown",
   "metadata": {
    "papermill": {
     "duration": 0.01312,
     "end_time": "2020-12-19T16:06:47.414094",
     "exception": false,
     "start_time": "2020-12-19T16:06:47.400974",
     "status": "completed"
    },
    "tags": []
   },
   "source": [
    "### Importamos las librerías que vamos a utilizar"
   ]
  },
  {
   "cell_type": "code",
   "execution_count": 1,
   "metadata": {
    "_cell_guid": "79c7e3d0-c299-4dcb-8224-4455121ee9b0",
    "_uuid": "d629ff2d2480ee46fbb7e2d37f6b5fab8052498a",
    "execution": {
     "iopub.execute_input": "2020-12-19T16:06:47.445211Z",
     "iopub.status.busy": "2020-12-19T16:06:47.444600Z",
     "iopub.status.idle": "2020-12-19T16:06:48.415903Z",
     "shell.execute_reply": "2020-12-19T16:06:48.416380Z"
    },
    "papermill": {
     "duration": 0.989297,
     "end_time": "2020-12-19T16:06:48.416559",
     "exception": false,
     "start_time": "2020-12-19T16:06:47.427262",
     "status": "completed"
    },
    "tags": []
   },
   "outputs": [],
   "source": [
    "import pandas as pd\n",
    "from lightgbm import LGBMClassifier\n",
    "from sklearn.metrics import roc_auc_score\n",
    "from sklearn.model_selection import KFold\n",
    "import re"
   ]
  },
  {
   "cell_type": "markdown",
   "metadata": {
    "papermill": {
     "duration": 0.013337,
     "end_time": "2020-12-19T16:06:48.444180",
     "exception": false,
     "start_time": "2020-12-19T16:06:48.430843",
     "status": "completed"
    },
    "tags": []
   },
   "source": [
    "### Lectura de las Bases\n",
    "\n",
    "Observamos los datos que tenemos disponibles en https://www.kaggle.com/c/interbank20/data\n",
    "\n",
    "Vamos a trabajar ahora con todas las bases disponibles"
   ]
  },
  {
   "cell_type": "code",
   "execution_count": 4,
   "metadata": {
    "execution": {
     "iopub.execute_input": "2020-12-19T16:06:48.474075Z",
     "iopub.status.busy": "2020-12-19T16:06:48.473436Z",
     "iopub.status.idle": "2020-12-19T16:09:02.688095Z",
     "shell.execute_reply": "2020-12-19T16:09:02.687302Z"
    },
    "papermill": {
     "duration": 134.230817,
     "end_time": "2020-12-19T16:09:02.688231",
     "exception": false,
     "start_time": "2020-12-19T16:06:48.457414",
     "status": "completed"
    },
    "tags": []
   },
   "outputs": [],
   "source": [
    "rcc_train = pd.read_csv(\"Data/rcc_train.csv\")\n",
    "se_train = pd.read_csv(\"Data/se_train.csv\", index_col=\"key_value\")\n",
    "censo_train = pd.read_csv(\"Data/censo_train.csv\", index_col=\"key_value\")\n",
    "y_train = pd.read_csv(\"Data/y_train.csv\", index_col=\"key_value\").target\n",
    "\n",
    "rcc_test= pd.read_csv(\"Data/rcc_test.csv\")\n",
    "se_test= pd.read_csv(\"Data/se_test.csv\", index_col=\"key_value\")\n",
    "censo_test= pd.read_csv(\"Data/censo_test.csv\", index_col=\"key_value\")"
   ]
  },
  {
   "cell_type": "markdown",
   "metadata": {
    "papermill": {
     "duration": 0.014636,
     "end_time": "2020-12-19T16:09:02.718739",
     "exception": false,
     "start_time": "2020-12-19T16:09:02.704103",
     "status": "completed"
    },
    "tags": []
   },
   "source": [
    "### Vamos a trabajar ahora con la base de **RCC**:\n",
    "* Discretizamos los días de atraso para poder manipularla mejor\n",
    "* Hacemos tablas cruzadas sobre key_value y cada variable de interés, utilizando distintas funciones de agregación sobre el saldo del producto"
   ]
  },
  {
   "cell_type": "code",
   "execution_count": 5,
   "metadata": {
    "execution": {
     "iopub.execute_input": "2020-12-19T16:09:02.757543Z",
     "iopub.status.busy": "2020-12-19T16:09:02.756300Z",
     "iopub.status.idle": "2020-12-19T16:09:05.685845Z",
     "shell.execute_reply": "2020-12-19T16:09:05.685265Z"
    },
    "papermill": {
     "duration": 2.95316,
     "end_time": "2020-12-19T16:09:05.685957",
     "exception": false,
     "start_time": "2020-12-19T16:09:02.732797",
     "status": "completed"
    },
    "tags": []
   },
   "outputs": [],
   "source": [
    "bins = [-1, 0, 10, 20, 30, 60, 90, 180, 360, 720, float(\"inf\")]\n",
    "rcc_train[\"condicion\"] = pd.cut(rcc_train.condicion, bins)\n",
    "rcc_test[\"condicion\"] = pd.cut(rcc_test.condicion, bins)"
   ]
  },
  {
   "cell_type": "code",
   "execution_count": 6,
   "metadata": {
    "execution": {
     "iopub.execute_input": "2020-12-19T16:09:05.722706Z",
     "iopub.status.busy": "2020-12-19T16:09:05.721770Z",
     "iopub.status.idle": "2020-12-19T16:09:05.724404Z",
     "shell.execute_reply": "2020-12-19T16:09:05.724894Z"
    },
    "papermill": {
     "duration": 0.024514,
     "end_time": "2020-12-19T16:09:05.725028",
     "exception": false,
     "start_time": "2020-12-19T16:09:05.700514",
     "status": "completed"
    },
    "tags": []
   },
   "outputs": [],
   "source": [
    "def makeCt(df, c, aggfunc=sum):\n",
    "    try:\n",
    "        ct = pd.crosstab(df.key_value, df[c].fillna(\"N/A\"), values=df.saldo, aggfunc=aggfunc)\n",
    "    except:\n",
    "        ct = pd.crosstab(df.key_value, df[c], values=df.saldo, aggfunc=aggfunc)\n",
    "    ct.columns = [f\"{c}_{aggfunc.__name__}_{v}\" for v in ct.columns]\n",
    "    return ct"
   ]
  },
  {
   "cell_type": "code",
   "execution_count": 7,
   "metadata": {
    "execution": {
     "iopub.execute_input": "2020-12-19T16:09:06.159005Z",
     "iopub.status.busy": "2020-12-19T16:09:06.156901Z",
     "iopub.status.idle": "2020-12-19T16:26:00.885364Z",
     "shell.execute_reply": "2020-12-19T16:26:00.886074Z"
    },
    "papermill": {
     "duration": 1015.147168,
     "end_time": "2020-12-19T16:26:00.886442",
     "exception": false,
     "start_time": "2020-12-19T16:09:05.739274",
     "status": "completed"
    },
    "tags": []
   },
   "outputs": [
    {
     "name": "stdout",
     "output_type": "stream",
     "text": [
      "haciendo condicion\n",
      "haciendo tipo_credito\n",
      "haciendo cod_instit_financiera\n",
      "haciendo PRODUCTO\n",
      "haciendo RIESGO_DIRECTO\n",
      "haciendo COD_CLASIFICACION_DEUDOR\n"
     ]
    }
   ],
   "source": [
    "train = []\n",
    "test = []\n",
    "aggfuncs = [len, sum, min, max]\n",
    "for c in rcc_train.drop([\"codmes\", \"key_value\", \"saldo\"], axis=1):\n",
    "    print(\"haciendo\", c)\n",
    "    train.extend([makeCt(rcc_train, c, aggfunc) for aggfunc in aggfuncs])\n",
    "    test.extend([makeCt(rcc_test, c, aggfunc) for aggfunc in aggfuncs])"
   ]
  },
  {
   "cell_type": "code",
   "execution_count": 17,
   "metadata": {
    "execution": {
     "iopub.execute_input": "2020-12-19T16:26:00.925892Z",
     "iopub.status.busy": "2020-12-19T16:26:00.925132Z",
     "iopub.status.idle": "2020-12-19T16:26:01.195277Z",
     "shell.execute_reply": "2020-12-19T16:26:01.195811Z"
    },
    "papermill": {
     "duration": 0.292119,
     "end_time": "2020-12-19T16:26:01.195982",
     "exception": false,
     "start_time": "2020-12-19T16:26:00.903863",
     "status": "completed"
    },
    "tags": []
   },
   "outputs": [
    {
     "ename": "NameError",
     "evalue": "name 'rcc_train' is not defined",
     "output_type": "error",
     "traceback": [
      "\u001b[0;31m---------------------------------------------------------------------------\u001b[0m",
      "\u001b[0;31mNameError\u001b[0m                                 Traceback (most recent call last)",
      "\u001b[0;32m<ipython-input-17-e69d11ed5c3c>\u001b[0m in \u001b[0;36m<module>\u001b[0;34m\u001b[0m\n\u001b[1;32m      1\u001b[0m \u001b[0;32mimport\u001b[0m \u001b[0mgc\u001b[0m\u001b[0;34m\u001b[0m\u001b[0;34m\u001b[0m\u001b[0m\n\u001b[1;32m      2\u001b[0m \u001b[0;34m\u001b[0m\u001b[0m\n\u001b[0;32m----> 3\u001b[0;31m \u001b[0;32mdel\u001b[0m \u001b[0mrcc_train\u001b[0m\u001b[0;34m,\u001b[0m \u001b[0mrcc_test\u001b[0m\u001b[0;34m\u001b[0m\u001b[0;34m\u001b[0m\u001b[0m\n\u001b[0m\u001b[1;32m      4\u001b[0m \u001b[0mgc\u001b[0m\u001b[0;34m\u001b[0m\u001b[0;34m\u001b[0m\u001b[0m\n",
      "\u001b[0;31mNameError\u001b[0m: name 'rcc_train' is not defined"
     ]
    }
   ],
   "source": [
    "import gc\n",
    "\n",
    "del rcc_train, rcc_test\n",
    "gc"
   ]
  },
  {
   "cell_type": "code",
   "execution_count": null,
   "metadata": {},
   "outputs": [],
   "source": [
    "gc "
   ]
  },
  {
   "cell_type": "code",
   "execution_count": 9,
   "metadata": {
    "execution": {
     "iopub.execute_input": "2020-12-19T16:26:01.234623Z",
     "iopub.status.busy": "2020-12-19T16:26:01.233888Z",
     "iopub.status.idle": "2020-12-19T16:26:07.579786Z",
     "shell.execute_reply": "2020-12-19T16:26:07.580306Z"
    },
    "papermill": {
     "duration": 6.366628,
     "end_time": "2020-12-19T16:26:07.580516",
     "exception": false,
     "start_time": "2020-12-19T16:26:01.213888",
     "status": "completed"
    },
    "tags": []
   },
   "outputs": [],
   "source": [
    "train = pd.concat(train, axis=1)\n",
    "test = pd.concat(test, axis=1)"
   ]
  },
  {
   "cell_type": "markdown",
   "metadata": {
    "papermill": {
     "duration": 0.017137,
     "end_time": "2020-12-19T16:26:07.615412",
     "exception": false,
     "start_time": "2020-12-19T16:26:07.598275",
     "status": "completed"
    },
    "tags": []
   },
   "source": [
    "### Incorporamos la Información adicional existente en las tablas socio económicas y del censo. Es un simple join porque ambas tienen key_value únicos\n",
    "#### Por el momento no incorporamos la información tributaria porque requiere un tratamiento más complejo que queda para futuras revisiones"
   ]
  },
  {
   "cell_type": "code",
   "execution_count": 10,
   "metadata": {
    "execution": {
     "iopub.execute_input": "2020-12-19T16:26:07.654250Z",
     "iopub.status.busy": "2020-12-19T16:26:07.653575Z",
     "iopub.status.idle": "2020-12-19T16:26:14.908761Z",
     "shell.execute_reply": "2020-12-19T16:26:14.907990Z"
    },
    "papermill": {
     "duration": 7.275492,
     "end_time": "2020-12-19T16:26:14.908903",
     "exception": false,
     "start_time": "2020-12-19T16:26:07.633411",
     "status": "completed"
    },
    "tags": []
   },
   "outputs": [
    {
     "data": {
      "text/plain": [
       "30"
      ]
     },
     "execution_count": 10,
     "metadata": {},
     "output_type": "execute_result"
    }
   ],
   "source": [
    "train = train.join(censo_train).join(se_train)\n",
    "test = test.join(censo_test).join(se_test)\n",
    "\n",
    "del censo_train, se_train, censo_test, se_test\n",
    "gc.collect()"
   ]
  },
  {
   "cell_type": "markdown",
   "metadata": {
    "papermill": {
     "duration": 0.017592,
     "end_time": "2020-12-19T16:26:14.944727",
     "exception": false,
     "start_time": "2020-12-19T16:26:14.927135",
     "status": "completed"
    },
    "tags": []
   },
   "source": [
    "### Por la naturaleza de las variables creadas, nos aseguramos que solo se utilicen variables existentes en ambos conjuntos de datos (train y test)"
   ]
  },
  {
   "cell_type": "code",
   "execution_count": 11,
   "metadata": {
    "execution": {
     "iopub.execute_input": "2020-12-19T16:26:14.990374Z",
     "iopub.status.busy": "2020-12-19T16:26:14.989630Z",
     "iopub.status.idle": "2020-12-19T16:26:20.069274Z",
     "shell.execute_reply": "2020-12-19T16:26:20.068440Z"
    },
    "papermill": {
     "duration": 5.107019,
     "end_time": "2020-12-19T16:26:20.069423",
     "exception": false,
     "start_time": "2020-12-19T16:26:14.962404",
     "status": "completed"
    },
    "tags": []
   },
   "outputs": [
    {
     "data": {
      "text/plain": [
       "(0, 0)"
      ]
     },
     "execution_count": 11,
     "metadata": {},
     "output_type": "execute_result"
    }
   ],
   "source": [
    "keep_cols = list(set(train.columns).intersection(set(test.columns)))\n",
    "train = train[keep_cols]\n",
    "test = test[keep_cols]\n",
    "len(set(train.columns) - set(test.columns)) , len(set(test.columns) - set(train.columns))"
   ]
  },
  {
   "cell_type": "code",
   "execution_count": 12,
   "metadata": {
    "execution": {
     "iopub.execute_input": "2020-12-19T16:26:20.114238Z",
     "iopub.status.busy": "2020-12-19T16:26:20.113518Z",
     "iopub.status.idle": "2020-12-19T16:26:21.009386Z",
     "shell.execute_reply": "2020-12-19T16:26:21.008783Z"
    },
    "papermill": {
     "duration": 0.920635,
     "end_time": "2020-12-19T16:26:21.009501",
     "exception": false,
     "start_time": "2020-12-19T16:26:20.088866",
     "status": "completed"
    },
    "tags": []
   },
   "outputs": [],
   "source": [
    "test = test.rename(columns = lambda x:re.sub('[^A-Za-z0-9_-]+', '', x))\n",
    "train = train.rename(columns = lambda x:re.sub('[^A-Za-z0-9_-]+', '', x))"
   ]
  },
  {
   "cell_type": "code",
   "execution_count": 13,
   "metadata": {
    "execution": {
     "iopub.execute_input": "2020-12-19T16:26:21.054340Z",
     "iopub.status.busy": "2020-12-19T16:26:21.053051Z",
     "iopub.status.idle": "2020-12-19T16:26:21.067818Z",
     "shell.execute_reply": "2020-12-19T16:26:21.067111Z"
    },
    "papermill": {
     "duration": 0.039383,
     "end_time": "2020-12-19T16:26:21.067947",
     "exception": false,
     "start_time": "2020-12-19T16:26:21.028564",
     "status": "completed"
    },
    "tags": []
   },
   "outputs": [],
   "source": [
    "folds = [train.index[t] for t, v in KFold(5).split(train)]"
   ]
  },
  {
   "cell_type": "markdown",
   "metadata": {
    "papermill": {
     "duration": 0.018336,
     "end_time": "2020-12-19T16:26:21.105114",
     "exception": false,
     "start_time": "2020-12-19T16:26:21.086778",
     "status": "completed"
    },
    "tags": []
   },
   "source": [
    "### Entrenamiento del Modelo\n",
    "\n",
    "Para entrenar nuestro modelo vamos a usar LightGBM. A diferencia del notebook anterior, esta vez vamos a agregar la optimización de hyper-parámetro. Se usan sólo dos con algunos pocos posibles valores, a modo de ejemplo para que los participantes lo puedan ir mejorando. "
   ]
  },
  {
   "cell_type": "code",
   "execution_count": 14,
   "metadata": {
    "execution": {
     "iopub.execute_input": "2020-12-19T16:26:21.149163Z",
     "iopub.status.busy": "2020-12-19T16:26:21.148255Z",
     "iopub.status.idle": "2020-12-19T16:26:21.151713Z",
     "shell.execute_reply": "2020-12-19T16:26:21.151133Z"
    },
    "papermill": {
     "duration": 0.027869,
     "end_time": "2020-12-19T16:26:21.151827",
     "exception": false,
     "start_time": "2020-12-19T16:26:21.123958",
     "status": "completed"
    },
    "tags": []
   },
   "outputs": [],
   "source": [
    "from sklearn.model_selection import ParameterGrid\n",
    "\n",
    "params = ParameterGrid({\"min_child_samples\": [150, 250, 500, 1000], \"boosting_type\": [\"gbdt\", \"goss\"]})"
   ]
  },
  {
   "cell_type": "code",
   "execution_count": 15,
   "metadata": {
    "execution": {
     "iopub.execute_input": "2020-12-19T16:26:21.206494Z",
     "iopub.status.busy": "2020-12-19T16:26:21.205786Z",
     "iopub.status.idle": "2020-12-19T17:07:41.750954Z",
     "shell.execute_reply": "2020-12-19T17:07:41.751521Z"
    },
    "papermill": {
     "duration": 2480.581105,
     "end_time": "2020-12-19T17:07:41.751811",
     "exception": false,
     "start_time": "2020-12-19T16:26:21.170706",
     "status": "completed"
    },
    "tags": []
   },
   "outputs": [
    {
     "name": "stdout",
     "output_type": "stream",
     "text": [
      "********** boosting_type=gbdt///min_child_samples=150 **********\n",
      "roc auc estimado para boosting_type=gbdt///min_child_samples=150: 0.83888055482856\n",
      "********** boosting_type=gbdt///min_child_samples=150 es el nuevo mejor modelo **********\n",
      "********** boosting_type=gbdt///min_child_samples=250 **********\n",
      "roc auc estimado para boosting_type=gbdt///min_child_samples=250: 0.8395385358920666\n",
      "********** boosting_type=gbdt///min_child_samples=250 es el nuevo mejor modelo **********\n",
      "********** boosting_type=gbdt///min_child_samples=500 **********\n",
      "roc auc estimado para boosting_type=gbdt///min_child_samples=500: 0.8396518418196424\n",
      "********** boosting_type=gbdt///min_child_samples=500 es el nuevo mejor modelo **********\n",
      "********** boosting_type=gbdt///min_child_samples=1000 **********\n",
      "roc auc estimado para boosting_type=gbdt///min_child_samples=1000: 0.83982378519442\n",
      "********** boosting_type=gbdt///min_child_samples=1000 es el nuevo mejor modelo **********\n",
      "********** boosting_type=goss///min_child_samples=150 **********\n",
      "roc auc estimado para boosting_type=goss///min_child_samples=150: 0.8344550297246043\n",
      "********** boosting_type=goss///min_child_samples=250 **********\n",
      "roc auc estimado para boosting_type=goss///min_child_samples=250: 0.8345422672637227\n",
      "********** boosting_type=goss///min_child_samples=500 **********\n",
      "roc auc estimado para boosting_type=goss///min_child_samples=500: 0.8356705586839749\n",
      "********** boosting_type=goss///min_child_samples=1000 **********\n",
      "roc auc estimado para boosting_type=goss///min_child_samples=1000: 0.8364809974140555\n"
     ]
    }
   ],
   "source": [
    "best_score = 0\n",
    "best_probs = []\n",
    "for param in params:\n",
    "    test_probs = []\n",
    "    train_probs = []\n",
    "    p  = \"///\".join([f\"{k}={v}\" for k, v in param.items()])\n",
    "    print(\"*\"*10, p, \"*\"*10)\n",
    "    for i, idx in enumerate(folds):\n",
    "        Xt = train.loc[idx]\n",
    "        yt = y_train.loc[Xt.index]\n",
    "\n",
    "        Xv = train.drop(Xt.index)\n",
    "        yv = y_train.loc[Xv.index]\n",
    "\n",
    "        learner = LGBMClassifier(n_estimators=1000, **param)\n",
    "        learner.fit(Xt, yt,  early_stopping_rounds=10, eval_metric=\"auc\",\n",
    "                    eval_set=[(Xt, yt), (Xv, yv)], verbose=False)\n",
    "        test_probs.append(pd.Series(learner.predict_proba(test)[:, -1], index=test.index, name=\"fold_\" + str(i)))\n",
    "        train_probs.append(pd.Series(learner.predict_proba(Xv)[:, -1], index=Xv.index, name=\"probs\"))\n",
    "\n",
    "    test_probs = pd.concat(test_probs, axis=1).mean(axis=1)\n",
    "    train_probs = pd.concat(train_probs)\n",
    "    score = roc_auc_score(y_train, train_probs.loc[y_train.index])\n",
    "    print(f\"roc auc estimado para {p}: {score}\")\n",
    "    if score > best_score:\n",
    "        print(\"*\"*10, f\"{p} es el nuevo mejor modelo\", \"*\"*10)\n",
    "        best_score = score\n",
    "        best_probs = test_probs\n",
    "    "
   ]
  },
  {
   "cell_type": "markdown",
   "metadata": {
    "papermill": {
     "duration": 0.021094,
     "end_time": "2020-12-19T17:07:41.794834",
     "exception": false,
     "start_time": "2020-12-19T17:07:41.773740",
     "status": "completed"
    },
    "tags": []
   },
   "source": [
    "### Guardado de las predicciones modelo para hacer la presentación\n",
    "\n",
    "Finalmente creamos el archivo CSV que podemos subir como nuestra Solución a la competencia"
   ]
  },
  {
   "cell_type": "code",
   "execution_count": 16,
   "metadata": {
    "execution": {
     "iopub.execute_input": "2020-12-19T17:07:41.842015Z",
     "iopub.status.busy": "2020-12-19T17:07:41.841168Z",
     "iopub.status.idle": "2020-12-19T17:07:44.141934Z",
     "shell.execute_reply": "2020-12-19T17:07:44.142466Z"
    },
    "papermill": {
     "duration": 2.326382,
     "end_time": "2020-12-19T17:07:44.142624",
     "exception": false,
     "start_time": "2020-12-19T17:07:41.816242",
     "status": "completed"
    },
    "tags": []
   },
   "outputs": [],
   "source": [
    "best_probs.name = \"target\"\n",
    "best_probs.to_csv(\"benchmark2.csv\")"
   ]
  },
  {
   "cell_type": "code",
   "execution_count": 19,
   "metadata": {},
   "outputs": [
    {
     "data": {
      "text/plain": [
       "key_value\n",
       "0         0.005709\n",
       "1         0.297935\n",
       "2         0.016836\n",
       "3         0.254527\n",
       "4         0.167912\n",
       "            ...   \n",
       "396661    0.034637\n",
       "396662    0.047692\n",
       "396663    0.419451\n",
       "396664    0.013476\n",
       "396665    0.376261\n",
       "Name: target, Length: 396666, dtype: float64"
      ]
     },
     "execution_count": 19,
     "metadata": {},
     "output_type": "execute_result"
    }
   ],
   "source": [
    "best_probs"
   ]
  }
 ],
 "metadata": {
  "kernelspec": {
   "display_name": "Python 3",
   "language": "python",
   "name": "python3"
  },
  "language_info": {
   "codemirror_mode": {
    "name": "ipython",
    "version": 3
   },
   "file_extension": ".py",
   "mimetype": "text/x-python",
   "name": "python",
   "nbconvert_exporter": "python",
   "pygments_lexer": "ipython3",
   "version": "3.9.1"
  },
  "papermill": {
   "duration": 3661.24079,
   "end_time": "2020-12-19T17:07:44.276567",
   "environment_variables": {},
   "exception": null,
   "input_path": "__notebook__.ipynb",
   "output_path": "__notebook__.ipynb",
   "parameters": {},
   "start_time": "2020-12-19T16:06:43.035777",
   "version": "2.1.0"
  }
 },
 "nbformat": 4,
 "nbformat_minor": 4
}
