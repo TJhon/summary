{
 "cells": [
  {
   "cell_type": "code",
   "execution_count": null,
   "metadata": {
    "colab": {},
    "colab_type": "code",
    "id": "DOGa617qS5Ly"
   },
   "outputs": [],
   "source": [
    "#########################################################################\n",
    "#########------- Machine Learning Inmersion ------------#################\n",
    "#########################################################################\n",
    "# Capacitador: André Omar Chávez Panduro\n",
    "# email: andre.chavez@urp.edu.pe\n",
    "# Tema:  Aprendizaje Supervisado Respuesta Categorica\n",
    "# version: 1.0\n",
    "#########################################################################"
   ]
  },
  {
   "cell_type": "code",
   "execution_count": null,
   "metadata": {
    "colab": {},
    "colab_type": "code",
    "id": "0YiISVrXTP5y"
   },
   "outputs": [],
   "source": [
    "# Conexion a Google Colaborative\n",
    "from google.colab import drive\n",
    "drive.mount('/gdrive')"
   ]
  },
  {
   "cell_type": "code",
   "execution_count": null,
   "metadata": {
    "colab": {},
    "colab_type": "code",
    "id": "ZjzOq6OgS5L6"
   },
   "outputs": [],
   "source": [
    "##################################################\n",
    "## Desarrollo de Modelos de Machine Learning\n",
    "##################################################"
   ]
  },
  {
   "cell_type": "markdown",
   "metadata": {
    "colab_type": "text",
    "id": "2uKqxuVvS5MC"
   },
   "source": [
    "### **1. Carga de Modulos**"
   ]
  },
  {
   "cell_type": "code",
   "execution_count": 2,
   "metadata": {
    "colab": {},
    "colab_type": "code",
    "executionInfo": {
     "elapsed": 605,
     "status": "ok",
     "timestamp": 1592349911376,
     "user": {
      "displayName": "ANDRE OMAR CHAVEZ PANDURO",
      "photoUrl": "https://lh3.googleusercontent.com/a-/AOh14GhhoQ1kbFXrI1LHS5aCbnzbQoTSVMlrpsL1-iED=s64",
      "userId": "14331399592622880507"
     },
     "user_tz": 300
    },
    "id": "AnIT4fBaS5MD"
   },
   "outputs": [],
   "source": [
    "#Importar las librerías necesarias en Python.\n",
    "import pandas as pd ## Manejo de dataframes o set de datos\n",
    "import warnings\n",
    "warnings.filterwarnings(\"ignore\")\n",
    "import numpy as np ## Todo lo referente a trabajar con vectores y matrices\n",
    "from scipy import stats ## Herramientas y algoritmos matemáticos para python"
   ]
  },
  {
   "cell_type": "code",
   "execution_count": null,
   "metadata": {
    "colab": {},
    "colab_type": "code",
    "id": "asQF3BoeS5MI"
   },
   "outputs": [],
   "source": [
    "## Leemos los datos o el dataset a trabajar"
   ]
  },
  {
   "cell_type": "markdown",
   "metadata": {
    "colab_type": "text",
    "id": "UnPnopgUS5MN"
   },
   "source": [
    "### **2. Lectura Inicial de base de datos**"
   ]
  },
  {
   "cell_type": "markdown",
   "metadata": {
    "colab_type": "text",
    "id": "vXGXaQV9S5MO"
   },
   "source": [
    "#### 2.1. Carga de datos"
   ]
  },
  {
   "cell_type": "code",
   "execution_count": 3,
   "metadata": {
    "colab": {},
    "colab_type": "code",
    "executionInfo": {
     "elapsed": 564,
     "status": "ok",
     "timestamp": 1592349928075,
     "user": {
      "displayName": "ANDRE OMAR CHAVEZ PANDURO",
      "photoUrl": "https://lh3.googleusercontent.com/a-/AOh14GhhoQ1kbFXrI1LHS5aCbnzbQoTSVMlrpsL1-iED=s64",
      "userId": "14331399592622880507"
     },
     "user_tz": 300
    },
    "id": "pJ3QaE1oS5MP"
   },
   "outputs": [],
   "source": [
    "# Leemos la data de desarrollo de modeolos\n",
    "desarrll = pd.read_csv(\"\") # Ruta donde esta su set de datos!\n",
    "# Leer el dataset en un dataframe usando pandas"
   ]
  },
  {
   "cell_type": "code",
   "execution_count": 5,
   "metadata": {
    "colab": {},
    "colab_type": "code",
    "executionInfo": {
     "elapsed": 609,
     "status": "ok",
     "timestamp": 1592349948210,
     "user": {
      "displayName": "ANDRE OMAR CHAVEZ PANDURO",
      "photoUrl": "https://lh3.googleusercontent.com/a-/AOh14GhhoQ1kbFXrI1LHS5aCbnzbQoTSVMlrpsL1-iED=s64",
      "userId": "14331399592622880507"
     },
     "user_tz": 300
    },
    "id": "cS6x4KsDS5MV"
   },
   "outputs": [],
   "source": [
    "# Vemos la dimensionalidad"
   ]
  },
  {
   "cell_type": "code",
   "execution_count": 6,
   "metadata": {
    "colab": {},
    "colab_type": "code",
    "executionInfo": {
     "elapsed": 649,
     "status": "ok",
     "timestamp": 1592349952166,
     "user": {
      "displayName": "ANDRE OMAR CHAVEZ PANDURO",
      "photoUrl": "https://lh3.googleusercontent.com/a-/AOh14GhhoQ1kbFXrI1LHS5aCbnzbQoTSVMlrpsL1-iED=s64",
      "userId": "14331399592622880507"
     },
     "user_tz": 300
    },
    "id": "zm4WmZlxS5Me"
   },
   "outputs": [],
   "source": [
    "# Visualizacion Global de los datos\n",
    "desarrll.head()"
   ]
  },
  {
   "cell_type": "markdown",
   "metadata": {
    "colab_type": "text",
    "id": "q53Kq9unS5Ml"
   },
   "source": [
    "#### 2.2. Buenas prácticas"
   ]
  },
  {
   "cell_type": "code",
   "execution_count": null,
   "metadata": {
    "colab": {},
    "colab_type": "code",
    "id": "4sLayKIqS5Mn",
    "outputId": "f08d8d80-e5aa-4dae-b0be-747478ae7be2"
   },
   "outputs": [],
   "source": [
    "desarrll.columns"
   ]
  },
  {
   "cell_type": "code",
   "execution_count": 8,
   "metadata": {
    "colab": {},
    "colab_type": "code",
    "executionInfo": {
     "elapsed": 578,
     "status": "ok",
     "timestamp": 1592349993902,
     "user": {
      "displayName": "ANDRE OMAR CHAVEZ PANDURO",
      "photoUrl": "https://lh3.googleusercontent.com/a-/AOh14GhhoQ1kbFXrI1LHS5aCbnzbQoTSVMlrpsL1-iED=s64",
      "userId": "14331399592622880507"
     },
     "user_tz": 300
    },
    "id": "GWs4SDPCS5M1"
   },
   "outputs": [],
   "source": [
    "# Renombramos las variables por buenas prácticas\n",
    "\n",
    "desarrll.columns = Columnsnames"
   ]
  },
  {
   "cell_type": "markdown",
   "metadata": {
    "colab_type": "text",
    "id": "z-xwHgOuS5M8"
   },
   "source": [
    "#### 2.3. AED"
   ]
  },
  {
   "cell_type": "code",
   "execution_count": 8,
   "metadata": {
    "colab": {},
    "colab_type": "code",
    "executionInfo": {
     "elapsed": 588,
     "status": "ok",
     "timestamp": 1592350003921,
     "user": {
      "displayName": "ANDRE OMAR CHAVEZ PANDURO",
      "photoUrl": "https://lh3.googleusercontent.com/a-/AOh14GhhoQ1kbFXrI1LHS5aCbnzbQoTSVMlrpsL1-iED=s64",
      "userId": "14331399592622880507"
     },
     "user_tz": 300
    },
    "id": "zyirc6T8S5M8"
   },
   "outputs": [],
   "source": [
    "desarrll.describe(include='all') # Describir todas las variables."
   ]
  },
  {
   "cell_type": "code",
   "execution_count": null,
   "metadata": {
    "colab": {},
    "colab_type": "code",
    "id": "7FiQfS7IS5ND"
   },
   "outputs": [],
   "source": []
  },
  {
   "cell_type": "markdown",
   "metadata": {
    "colab_type": "text",
    "id": "OkPhk-pSS5NM"
   },
   "source": [
    "### **3. Tratamientos o Recodificacion de variables**"
   ]
  },
  {
   "cell_type": "markdown",
   "metadata": {
    "colab_type": "text",
    "id": "XASOd9Y3S5NN"
   },
   "source": [
    "#### 3.1. Completitud de los datos"
   ]
  },
  {
   "cell_type": "code",
   "execution_count": 9,
   "metadata": {
    "colab": {},
    "colab_type": "code",
    "executionInfo": {
     "elapsed": 594,
     "status": "ok",
     "timestamp": 1592350014371,
     "user": {
      "displayName": "ANDRE OMAR CHAVEZ PANDURO",
      "photoUrl": "https://lh3.googleusercontent.com/a-/AOh14GhhoQ1kbFXrI1LHS5aCbnzbQoTSVMlrpsL1-iED=s64",
      "userId": "14331399592622880507"
     },
     "user_tz": 300
    },
    "id": "ft_rOdkxS5NO"
   },
   "outputs": [],
   "source": [
    "# Revisamos los valores nulos o missings!\n"
   ]
  },
  {
   "cell_type": "code",
   "execution_count": 11,
   "metadata": {
    "colab": {},
    "colab_type": "code",
    "executionInfo": {
     "elapsed": 569,
     "status": "ok",
     "timestamp": 1592350054624,
     "user": {
      "displayName": "ANDRE OMAR CHAVEZ PANDURO",
      "photoUrl": "https://lh3.googleusercontent.com/a-/AOh14GhhoQ1kbFXrI1LHS5aCbnzbQoTSVMlrpsL1-iED=s64",
      "userId": "14331399592622880507"
     },
     "user_tz": 300
    },
    "id": "S3IV-Y-LS5NU"
   },
   "outputs": [],
   "source": [
    "# No olvidemos separar las variables cualitativas para poder trabajarlas eficientemente\n",
    "columnas_categoricas = [\"Gender\",\"Married\",\"Education\",\"Self_Employed\",\"Property_Area\",\"Dependents\",'Credit_History',\"Loan_Status\"]\n",
    "columnas_numericas   = [\"ApplicantIncome\",\"CoapplicantIncome\",\"LoanAmount\",\"Loan_Amount_Term\"]"
   ]
  },
  {
   "cell_type": "code",
   "execution_count": null,
   "metadata": {
    "colab": {},
    "colab_type": "code",
    "id": "aHTsaQmMS5Nb"
   },
   "outputs": [],
   "source": []
  },
  {
   "cell_type": "code",
   "execution_count": 10,
   "metadata": {
    "colab": {},
    "colab_type": "code",
    "executionInfo": {
     "elapsed": 825,
     "status": "ok",
     "timestamp": 1592350051824,
     "user": {
      "displayName": "ANDRE OMAR CHAVEZ PANDURO",
      "photoUrl": "https://lh3.googleusercontent.com/a-/AOh14GhhoQ1kbFXrI1LHS5aCbnzbQoTSVMlrpsL1-iED=s64",
      "userId": "14331399592622880507"
     },
     "user_tz": 300
    },
    "id": "r70_YyZpS5Nh"
   },
   "outputs": [],
   "source": [
    "# Usamos los metodos de imputacion aprendidos!\n",
    "from sklearn.impute import SimpleImputer\n",
    "# Generamos el imputador iterativo - Imputacion Univariada Numerica\n",
    "imp_univ_num = SimpleImputer(missing_values=np.nan, strategy='mean')\n",
    "\n",
    "# Generamos el imputador iterativo - Imputacion Univariada Categorica\n",
    "imp_univ_cat = "
   ]
  },
  {
   "cell_type": "code",
   "execution_count": 13,
   "metadata": {
    "colab": {},
    "colab_type": "code",
    "executionInfo": {
     "elapsed": 522,
     "status": "ok",
     "timestamp": 1592350186095,
     "user": {
      "displayName": "ANDRE OMAR CHAVEZ PANDURO",
      "photoUrl": "https://lh3.googleusercontent.com/a-/AOh14GhhoQ1kbFXrI1LHS5aCbnzbQoTSVMlrpsL1-iED=s64",
      "userId": "14331399592622880507"
     },
     "user_tz": 300
    },
    "id": "fcuMVIfNS5Nm"
   },
   "outputs": [],
   "source": [
    "# Generamos los subset de variables categoricas - continuas!\n"
   ]
  },
  {
   "cell_type": "code",
   "execution_count": 15,
   "metadata": {
    "colab": {},
    "colab_type": "code",
    "executionInfo": {
     "elapsed": 621,
     "status": "ok",
     "timestamp": 1592350233244,
     "user": {
      "displayName": "ANDRE OMAR CHAVEZ PANDURO",
      "photoUrl": "https://lh3.googleusercontent.com/a-/AOh14GhhoQ1kbFXrI1LHS5aCbnzbQoTSVMlrpsL1-iED=s64",
      "userId": "14331399592622880507"
     },
     "user_tz": 300
    },
    "id": "3sm4tpwvS5Nz"
   },
   "outputs": [],
   "source": [
    "# Realizamos la imputación univariada en una nueva base de datos - Variables Numericas\n",
    "imp_univ_num.fit(data_impt_num)\n",
    "imputed_data_univ_num = pd.DataFrame(data=imp_univ_num.transform(data_impt_num), \n",
    "                             columns=data_impt_num.columns,dtype='float')\n",
    "\n",
    "# Realizamos la imputación univariada en una nueva base de datos - Variables Categoricas\n",
    "imp_univ_cat.fit(data_impt_cat)\n",
    "imputed_data_univ_cat = pd.DataFrame(data=imp_univ_cat.transform(data_impt_cat), \n",
    "                             columns=data_impt_cat.columns,dtype='object')"
   ]
  },
  {
   "cell_type": "code",
   "execution_count": 17,
   "metadata": {
    "colab": {},
    "colab_type": "code",
    "executionInfo": {
     "elapsed": 602,
     "status": "ok",
     "timestamp": 1592350243559,
     "user": {
      "displayName": "ANDRE OMAR CHAVEZ PANDURO",
      "photoUrl": "https://lh3.googleusercontent.com/a-/AOh14GhhoQ1kbFXrI1LHS5aCbnzbQoTSVMlrpsL1-iED=s64",
      "userId": "14331399592622880507"
     },
     "user_tz": 300
    },
    "id": "aoSFiyoMS5N3"
   },
   "outputs": [],
   "source": [
    "# Consolidamos los subset!\n"
   ]
  },
  {
   "cell_type": "code",
   "execution_count": null,
   "metadata": {
    "colab": {},
    "colab_type": "code",
    "id": "1Ia5Jq79S5N6"
   },
   "outputs": [],
   "source": [
    "# Comprobamos la completitud de los datos!"
   ]
  },
  {
   "cell_type": "markdown",
   "metadata": {
    "colab_type": "text",
    "id": "d8j470AQS5N-"
   },
   "source": [
    "#### 3.2. Recodificacion de los datos"
   ]
  },
  {
   "cell_type": "code",
   "execution_count": 17,
   "metadata": {
    "colab": {},
    "colab_type": "code",
    "executionInfo": {
     "elapsed": 273,
     "status": "ok",
     "timestamp": 1592350277214,
     "user": {
      "displayName": "ANDRE OMAR CHAVEZ PANDURO",
      "photoUrl": "https://lh3.googleusercontent.com/a-/AOh14GhhoQ1kbFXrI1LHS5aCbnzbQoTSVMlrpsL1-iED=s64",
      "userId": "14331399592622880507"
     },
     "user_tz": 300
    },
    "id": "7l1TYdCBS5N_"
   },
   "outputs": [],
   "source": [
    "# LabelEncoder de los datos!\n",
    "from sklearn.preprocessing import LabelEncoder\n",
    "# Preprocesamiento con LabelEncoderfrom \n",
    "for c in columnas_categoricas:\n",
    "    print(str(c))\n",
    "    le = LabelEncoder()\n",
    "    le.fit(desarrll_imp[str(c)])\n",
    "    desarrll_imp[str(c)]=le.transform(desarrll_imp[str(c)]) "
   ]
  },
  {
   "cell_type": "markdown",
   "metadata": {
    "colab_type": "text",
    "collapsed": true,
    "id": "asfVP2XwS5OH"
   },
   "source": [
    "#### 3.3. Tratamiento de Outliers"
   ]
  },
  {
   "cell_type": "code",
   "execution_count": null,
   "metadata": {
    "colab": {},
    "colab_type": "code",
    "id": "ViyIQ-CkS5OI"
   },
   "outputs": [],
   "source": [
    "# Creamos una funcion para poder visualizar los percentiles\n",
    "def Cuantiles(lista):\n",
    "    c = [0,1,5,10,20,30,40,50,60,70,80,90,92.5,95,97.5,99,100]\n",
    "    matrix = pd.concat([pd.DataFrame(c),pd.DataFrame(np.percentile(lista.dropna(),c))],axis = 1)\n",
    "    matrix.columns = [\"Cuantil\",\"Valor_Cuantil\"]\n",
    "    return(matrix)"
   ]
  },
  {
   "cell_type": "code",
   "execution_count": 17,
   "metadata": {
    "colab": {},
    "colab_type": "code",
    "executionInfo": {
     "elapsed": 550,
     "status": "ok",
     "timestamp": 1592350291079,
     "user": {
      "displayName": "ANDRE OMAR CHAVEZ PANDURO",
      "photoUrl": "https://lh3.googleusercontent.com/a-/AOh14GhhoQ1kbFXrI1LHS5aCbnzbQoTSVMlrpsL1-iED=s64",
      "userId": "14331399592622880507"
     },
     "user_tz": 300
    },
    "id": "XXQYYFuhS5OM"
   },
   "outputs": [],
   "source": [
    "# Analizamos las variables numericas\n",
    "# Variable\n",
    "Cuantiles(desarrll_imp[\"ApplicantIncome\"]).transpose()\n",
    "# Nos hacemos la pregunta, podríamos acotar la variable?"
   ]
  },
  {
   "cell_type": "code",
   "execution_count": null,
   "metadata": {
    "colab": {},
    "colab_type": "code",
    "id": "bJUzU-cjS5Oc"
   },
   "outputs": [],
   "source": [
    "## ApplicantIncome\n",
    "cuantil_1 = np.percentile(desarrll_imp[\"ApplicantIncome\"],1)\n",
    "cuantil_95 = np.percentile(desarrll_imp[\"ApplicantIncome\"],95)\n",
    "\n",
    "# Reemplazamos el valor minimo y maximo\n",
    "desarrll_imp.loc[desarrll_imp[\"ApplicantIncome\"]<cuantil_1,\"ApplicantIncome\"] = cuantil_1\n",
    "desarrll_imp.loc[desarrll_imp[\"ApplicantIncome\"]>cuantil_95,\"ApplicantIncome\"] = cuantil_95\n"
   ]
  },
  {
   "cell_type": "markdown",
   "metadata": {
    "colab_type": "text",
    "id": "XAHbg9rhS5Oi"
   },
   "source": [
    "### **4. Ingeniería y Selección de Variables**"
   ]
  },
  {
   "cell_type": "markdown",
   "metadata": {
    "colab_type": "text",
    "id": "WRM_DjK3S5Oj"
   },
   "source": [
    "#### 4.1. Ingenieria de variables"
   ]
  },
  {
   "cell_type": "code",
   "execution_count": null,
   "metadata": {
    "colab": {},
    "colab_type": "code",
    "id": "Y6jNARm0S5Ok"
   },
   "outputs": [],
   "source": [
    "# Ingenieria de datos\n",
    "#Creamos las variables para el entrenamiento o train\n",
    "desarrll_imp['TotalIncome']    = desarrll_imp['ApplicantIncome'] + desarrll['CoapplicantIncome']\n",
    "desarrll_imp['Log_LoanAmount'] = round(np.log(desarrll_imp['LoanAmount']+1),2)\n",
    "# Existen mas variables a trabajar?"
   ]
  },
  {
   "cell_type": "code",
   "execution_count": null,
   "metadata": {
    "colab": {},
    "colab_type": "code",
    "id": "U0YHWUnfS5Oq"
   },
   "outputs": [],
   "source": [
    "# Mas variables!\n",
    "desarrll_imp['AmountxTerm']    = round(desarrll_imp['LoanAmount']/desarrll_imp['Loan_Amount_Term'],2)\n",
    "desarrll_imp[\"Cuota_Ingreso1\"] = (1000*desarrll_imp[\"LoanAmount\"]/desarrll_imp[\"Loan_Amount_Term\"])/(desarrll_imp[\"ApplicantIncome\"])\n",
    "desarrll_imp[\"Cuota_Ingreso2\"] = (1000*desarrll_imp[\"LoanAmount\"]/desarrll_imp[\"Loan_Amount_Term\"])/(desarrll_imp[\"TotalIncome\"])\n",
    "desarrll_imp[\"Cuota_Ingreso_Hijo\"] = (1000*desarrll_imp[\"LoanAmount\"]/desarrll_imp[\"Loan_Amount_Term\"])/(desarrll_imp[\"TotalIncome\"]/(desarrll_imp[\"Dependents\"]+1))\n"
   ]
  },
  {
   "cell_type": "code",
   "execution_count": null,
   "metadata": {
    "colab": {},
    "colab_type": "code",
    "id": "y83P0C6BS5Ox"
   },
   "outputs": [],
   "source": []
  },
  {
   "cell_type": "markdown",
   "metadata": {
    "colab_type": "text",
    "id": "kKjhahjJS5O4"
   },
   "source": [
    "#### 4.1. Selección de variables"
   ]
  },
  {
   "cell_type": "code",
   "execution_count": null,
   "metadata": {
    "colab": {},
    "colab_type": "code",
    "id": "8wsDWDtmS5O5"
   },
   "outputs": [],
   "source": []
  },
  {
   "cell_type": "code",
   "execution_count": null,
   "metadata": {
    "colab": {},
    "colab_type": "code",
    "id": "MMYsKcLmS5O-"
   },
   "outputs": [],
   "source": [
    "#############################\n",
    "# Seleccion por Random Forest\n",
    "from sklearn.ensemble import RandomForestClassifier                                  # Paso01: Instancio el algoritmo\n",
    "\n",
    "forest = RandomForestClassifier()                                                    # Paso02: Configuro el algoritmo\n",
    "forest.fit(desarrll_imp.drop('Loan_Status',axis=1), desarrll_imp.Loan_Status)        # Paso03: Ajuste el algoritmo\n",
    "importances = forest.feature_importances_                                            # Paso04: Importancia!\n"
   ]
  },
  {
   "cell_type": "code",
   "execution_count": 17,
   "metadata": {
    "colab": {},
    "colab_type": "code",
    "executionInfo": {
     "elapsed": 574,
     "status": "ok",
     "timestamp": 1592350378143,
     "user": {
      "displayName": "ANDRE OMAR CHAVEZ PANDURO",
      "photoUrl": "https://lh3.googleusercontent.com/a-/AOh14GhhoQ1kbFXrI1LHS5aCbnzbQoTSVMlrpsL1-iED=s64",
      "userId": "14331399592622880507"
     },
     "user_tz": 300
    },
    "id": "aM_yUBr2S5PE"
   },
   "outputs": [],
   "source": [
    "# Seleccion por Random Forest\n",
    "TablaImportancia = pd.concat([pd.DataFrame({'Driver':list(desarrll_imp.drop('Loan_Status',axis=1).columns)}),\n",
    "                              pd.DataFrame({'Importancia':list(forest.feature_importances_)})], axis = 1)\n",
    "ImportanciaVariables = TablaImportancia[['Driver','Importancia']].sort_values('Importancia', ascending = False).reset_index(drop = True)\n",
    "ImportanciaVariables"
   ]
  },
  {
   "cell_type": "code",
   "execution_count": null,
   "metadata": {
    "colab": {},
    "colab_type": "code",
    "id": "M562a8JfS5PK"
   },
   "outputs": [],
   "source": []
  },
  {
   "cell_type": "code",
   "execution_count": null,
   "metadata": {
    "colab": {},
    "colab_type": "code",
    "id": "SL2KTkcdeqoi"
   },
   "outputs": [],
   "source": [
    "#######################\n",
    "# Selección por WOESS!\n",
    "final_iv, IV = data_vars(desarrll_imp,desarrll_imp.Loan_Status)"
   ]
  },
  {
   "cell_type": "code",
   "execution_count": 17,
   "metadata": {
    "colab": {},
    "colab_type": "code",
    "executionInfo": {
     "elapsed": 595,
     "status": "ok",
     "timestamp": 1592350393800,
     "user": {
      "displayName": "ANDRE OMAR CHAVEZ PANDURO",
      "photoUrl": "https://lh3.googleusercontent.com/a-/AOh14GhhoQ1kbFXrI1LHS5aCbnzbQoTSVMlrpsL1-iED=s64",
      "userId": "14331399592622880507"
     },
     "user_tz": 300
    },
    "id": "sOPONvWFS5PP"
   },
   "outputs": [],
   "source": [
    "# Ordenamos el ordenamiento!\n",
    "IV.sort_values('IV',ascending=False)"
   ]
  },
  {
   "cell_type": "code",
   "execution_count": null,
   "metadata": {
    "colab": {},
    "colab_type": "code",
    "id": "tJNxCDY2e3tv"
   },
   "outputs": [],
   "source": []
  },
  {
   "cell_type": "code",
   "execution_count": 18,
   "metadata": {
    "colab": {},
    "colab_type": "code",
    "executionInfo": {
     "elapsed": 617,
     "status": "ok",
     "timestamp": 1592350438764,
     "user": {
      "displayName": "ANDRE OMAR CHAVEZ PANDURO",
      "photoUrl": "https://lh3.googleusercontent.com/a-/AOh14GhhoQ1kbFXrI1LHS5aCbnzbQoTSVMlrpsL1-iED=s64",
      "userId": "14331399592622880507"
     },
     "user_tz": 300
    },
    "id": "yG-KvtAjS5PW"
   },
   "outputs": [],
   "source": [
    "#! pip install boruta"
   ]
  },
  {
   "cell_type": "code",
   "execution_count": 19,
   "metadata": {
    "colab": {},
    "colab_type": "code",
    "executionInfo": {
     "elapsed": 578,
     "status": "ok",
     "timestamp": 1592350477237,
     "user": {
      "displayName": "ANDRE OMAR CHAVEZ PANDURO",
      "photoUrl": "https://lh3.googleusercontent.com/a-/AOh14GhhoQ1kbFXrI1LHS5aCbnzbQoTSVMlrpsL1-iED=s64",
      "userId": "14331399592622880507"
     },
     "user_tz": 300
    },
    "id": "ogCSFvELS5Pe"
   },
   "outputs": [],
   "source": [
    "#############################################\n",
    "# Seleccion Boruta (Permutaciones de arboles)\n",
    "from sklearn.ensemble import RandomForestClassifier\n",
    "from boruta import BorutaPy\n",
    "\n",
    "rfc = RandomForestClassifier()\n",
    "boruta_selector = BorutaPy(rfc, n_estimators='auto',perc = 50,alpha = 0.05,verbose=2)\n",
    "\n",
    "x=desarrll_imp.drop('Loan_Status',axis=1).values\n",
    "y=desarrll_imp.Loan_Status.values\n",
    "\n",
    "boruta_selector.fit(x,y)\n",
    "\n",
    "print(\"==============BORUTA==============\")\n",
    "print (boruta_selector.n_features_)"
   ]
  },
  {
   "cell_type": "code",
   "execution_count": null,
   "metadata": {
    "colab": {},
    "colab_type": "code",
    "id": "TwYlvjOUS5Pq"
   },
   "outputs": [],
   "source": [
    "# Elegimos las variables mas relevantes!"
   ]
  },
  {
   "cell_type": "code",
   "execution_count": null,
   "metadata": {
    "colab": {},
    "colab_type": "code",
    "id": "eInTK4hAS5Pv"
   },
   "outputs": [],
   "source": []
  },
  {
   "cell_type": "markdown",
   "metadata": {
    "colab_type": "text",
    "id": "rjUqWwdNS5P2"
   },
   "source": [
    "### **5. Modelamiento de Datos o Creación del Algoritmo de ML**"
   ]
  },
  {
   "cell_type": "markdown",
   "metadata": {
    "colab_type": "text",
    "id": "YN5ZjryQS5P4"
   },
   "source": [
    "#### 5.1. Particion Muestral"
   ]
  },
  {
   "cell_type": "code",
   "execution_count": null,
   "metadata": {
    "colab": {},
    "colab_type": "code",
    "id": "w5LUiSntS5P4"
   },
   "outputs": [],
   "source": []
  },
  {
   "cell_type": "code",
   "execution_count": null,
   "metadata": {
    "colab": {},
    "colab_type": "code",
    "id": "SJYlsm09S5P-"
   },
   "outputs": [],
   "source": [
    "# Creación de la data de train y la data de test\n",
    "from sklearn.model_selection import train_test_split\n",
    "X_train, X_test, y_train, y_test = train_test_split()"
   ]
  },
  {
   "cell_type": "markdown",
   "metadata": {
    "colab_type": "text",
    "collapsed": true,
    "id": "jcy9Ahd_S5QG"
   },
   "source": [
    "#### 5.2. Algoritmos Machine Learning"
   ]
  },
  {
   "cell_type": "code",
   "execution_count": 19,
   "metadata": {
    "colab": {},
    "colab_type": "code",
    "executionInfo": {
     "elapsed": 598,
     "status": "ok",
     "timestamp": 1592350528513,
     "user": {
      "displayName": "ANDRE OMAR CHAVEZ PANDURO",
      "photoUrl": "https://lh3.googleusercontent.com/a-/AOh14GhhoQ1kbFXrI1LHS5aCbnzbQoTSVMlrpsL1-iED=s64",
      "userId": "14331399592622880507"
     },
     "user_tz": 300
    },
    "id": "8DGsV1ttS5QI"
   },
   "outputs": [],
   "source": [
    "from sklearn.linear_model import LogisticRegression\n",
    "lr = LogisticRegression()\n",
    "lr.fit(X_train,y_train)"
   ]
  },
  {
   "cell_type": "code",
   "execution_count": null,
   "metadata": {
    "colab": {},
    "colab_type": "code",
    "id": "PbYCdsbzS5QQ"
   },
   "outputs": [],
   "source": [
    "# Paso N°04: Predecir con el algoritmo entrenado para validar\n",
    "y_pred_train=lr.predict(X_train) # Prediccion sobre el train\n",
    "y_pred_test= lr.predict(X_test) # Prediccion sobre el test"
   ]
  },
  {
   "cell_type": "code",
   "execution_count": 19,
   "metadata": {
    "colab": {},
    "colab_type": "code",
    "executionInfo": {
     "elapsed": 559,
     "status": "ok",
     "timestamp": 1592350538859,
     "user": {
      "displayName": "ANDRE OMAR CHAVEZ PANDURO",
      "photoUrl": "https://lh3.googleusercontent.com/a-/AOh14GhhoQ1kbFXrI1LHS5aCbnzbQoTSVMlrpsL1-iED=s64",
      "userId": "14331399592622880507"
     },
     "user_tz": 300
    },
    "id": "LFpmbex1S5Q7"
   },
   "outputs": [],
   "source": [
    "# Paso N°05: Comparar el valor pronosticado con el valor real\n",
    "\n",
    "from sklearn import metrics as metrics\n",
    "# Matriz de confusion\n",
    "print(\"Matriz confusion: Train\")\n",
    "cm_train = metrics.confusion_matrix(y_train,y_pred_train)\n",
    "print(cm_train)\n",
    "\n",
    "print(\"Matriz confusion: Test\")\n",
    "cm_test = metrics.confusion_matrix(y_test,y_pred_test)\n",
    "print(cm_test)\n",
    "\n",
    "# Accuracy\n",
    "print(\"Accuracy: Train\")\n",
    "accuracy_train=metrics.accuracy_score(y_train,y_pred_train)\n",
    "print(accuracy_train)\n",
    "\n",
    "print(\"Accuracy: Test\")\n",
    "accuracy_test=metrics.accuracy_score(y_test,y_pred_test)\n",
    "print(accuracy_test)\n",
    "\n",
    "# Precision\n",
    "print(\"Precision: Train\")\n",
    "precision_train=metrics.precision_score(y_train,y_pred_train)\n",
    "print(precision_train)\n",
    "\n",
    "print(\"Precision: Test\")\n",
    "precision_test=metrics.precision_score(y_test,y_pred_test)\n",
    "print(precision_test)\n",
    "\n",
    "# Recall\n",
    "print(\"Recall: Train\")\n",
    "recall_train=metrics.recall_score(y_train,y_pred_train)\n",
    "print(recall_train)\n",
    "\n",
    "print(\"Recall: Test\")\n",
    "recall_test=metrics.recall_score(y_test,y_pred_test)\n",
    "print(recall_test)"
   ]
  },
  {
   "cell_type": "code",
   "execution_count": null,
   "metadata": {
    "colab": {},
    "colab_type": "code",
    "id": "ZdAbWqrZS5Q-"
   },
   "outputs": [],
   "source": []
  },
  {
   "cell_type": "code",
   "execution_count": null,
   "metadata": {
    "colab": {},
    "colab_type": "code",
    "id": "otGRhHL0S5RC"
   },
   "outputs": [],
   "source": [
    "## Modelos Supervisados : Arbol CART"
   ]
  },
  {
   "cell_type": "code",
   "execution_count": 19,
   "metadata": {
    "colab": {},
    "colab_type": "code",
    "executionInfo": {
     "elapsed": 529,
     "status": "ok",
     "timestamp": 1592350557310,
     "user": {
      "displayName": "ANDRE OMAR CHAVEZ PANDURO",
      "photoUrl": "https://lh3.googleusercontent.com/a-/AOh14GhhoQ1kbFXrI1LHS5aCbnzbQoTSVMlrpsL1-iED=s64",
      "userId": "14331399592622880507"
     },
     "user_tz": 300
    },
    "id": "aVgDDVywS5RG"
   },
   "outputs": [],
   "source": [
    "# Paso N°01: Llamar un algoritmo predictivos\n",
    "from sklearn.tree import DecisionTreeClassifier\n",
    "\n",
    "cart = DecisionTreeClassifier(criterion='entropy',\n",
    "                              max_depth=3,\n",
    "                              max_features=\"sqrt\")\n",
    "\n",
    "cart.fit(X_train, y_train) # Entrenamos el algoritmo"
   ]
  },
  {
   "cell_type": "code",
   "execution_count": null,
   "metadata": {
    "colab": {},
    "colab_type": "code",
    "id": "jQkVSj_4S5RJ"
   },
   "outputs": [],
   "source": [
    "# Paso N°04: Predecir con el algoritmo entrenado para validar\n",
    "y_pred_train=cart.predict(X_train) # Prediccion sobre el train\n",
    "y_pred_test= cart.predict(X_test) # Prediccion sobre el test"
   ]
  },
  {
   "cell_type": "code",
   "execution_count": 19,
   "metadata": {
    "colab": {},
    "colab_type": "code",
    "executionInfo": {
     "elapsed": 676,
     "status": "ok",
     "timestamp": 1592350567416,
     "user": {
      "displayName": "ANDRE OMAR CHAVEZ PANDURO",
      "photoUrl": "https://lh3.googleusercontent.com/a-/AOh14GhhoQ1kbFXrI1LHS5aCbnzbQoTSVMlrpsL1-iED=s64",
      "userId": "14331399592622880507"
     },
     "user_tz": 300
    },
    "id": "I1jnNp4SS5RT"
   },
   "outputs": [],
   "source": [
    "# Paso N°05: Comparar el valor pronosticado con el valor real\n",
    "\n",
    "from sklearn import metrics as metrics\n",
    "# Matriz de confusion\n",
    "print(\"Matriz confusion: Train\")\n",
    "cm_train = metrics.confusion_matrix(y_train,y_pred_train)\n",
    "print(cm_train)\n",
    "\n",
    "print(\"Matriz confusion: Test\")\n",
    "cm_test = metrics.confusion_matrix(y_test,y_pred_test)\n",
    "print(cm_test)\n",
    "\n",
    "# Accuracy\n",
    "print(\"Accuracy: Train\")\n",
    "accuracy_train=metrics.accuracy_score(y_train,y_pred_train)\n",
    "print(accuracy_train)\n",
    "\n",
    "print(\"Accuracy: Test\")\n",
    "accuracy_test=metrics.accuracy_score(y_test,y_pred_test)\n",
    "print(accuracy_test)\n",
    "\n",
    "# Precision\n",
    "print(\"Precision: Train\")\n",
    "precision_train=metrics.precision_score(y_train,y_pred_train)\n",
    "print(precision_train)\n",
    "\n",
    "print(\"Precision: Test\")\n",
    "precision_test=metrics.precision_score(y_test,y_pred_test)\n",
    "print(precision_test)\n",
    "\n",
    "# Recall\n",
    "print(\"Recall: Train\")\n",
    "recall_train=metrics.recall_score(y_train,y_pred_train)\n",
    "print(recall_train)\n",
    "\n",
    "print(\"Recall: Test\")\n",
    "recall_test=metrics.recall_score(y_test,y_pred_test)\n",
    "print(recall_test)"
   ]
  },
  {
   "cell_type": "code",
   "execution_count": null,
   "metadata": {
    "colab": {},
    "colab_type": "code",
    "id": "Bo1lv0CHS5Rh"
   },
   "outputs": [],
   "source": [
    "## Modelos Supervisados : Random Forest ##\n",
    "from sklearn.ensemble import RandomForestClassifier\n",
    "rf = RandomForestClassifier()\n",
    "rf.fit(X_train, y_train) # Entrenando un algoritmo"
   ]
  },
  {
   "cell_type": "code",
   "execution_count": null,
   "metadata": {
    "colab": {},
    "colab_type": "code",
    "id": "d6txUy2BS5Rm"
   },
   "outputs": [],
   "source": [
    "# Paso N°04: Predecir con el algoritmo entrenado para validar\n",
    "y_pred_train=rf.predict(X_train) # Prediccion sobre el train\n",
    "y_pred_test= rf.predict(X_test) # Prediccion sobre el test"
   ]
  },
  {
   "cell_type": "code",
   "execution_count": 19,
   "metadata": {
    "colab": {},
    "colab_type": "code",
    "executionInfo": {
     "elapsed": 608,
     "status": "ok",
     "timestamp": 1592350817620,
     "user": {
      "displayName": "ANDRE OMAR CHAVEZ PANDURO",
      "photoUrl": "https://lh3.googleusercontent.com/a-/AOh14GhhoQ1kbFXrI1LHS5aCbnzbQoTSVMlrpsL1-iED=s64",
      "userId": "14331399592622880507"
     },
     "user_tz": 300
    },
    "id": "Gx2eqfr5S5Rs"
   },
   "outputs": [],
   "source": [
    "# Paso N°05: Comparar el valor pronosticado con el valor real\n",
    "from sklearn import metrics as metrics\n",
    "# Matriz de confusion\n",
    "print(\"Matriz confusion: Train\")\n",
    "cm_train = metrics.confusion_matrix(y_train,y_pred_train)\n",
    "print(cm_train)\n",
    "\n",
    "print(\"Matriz confusion: Test\")\n",
    "cm_test = metrics.confusion_matrix(y_test,y_pred_test)\n",
    "print(cm_test)\n",
    "\n",
    "# Accuracy\n",
    "print(\"Accuracy: Train\")\n",
    "accuracy_train=metrics.accuracy_score(y_train,y_pred_train)\n",
    "print(accuracy_train)\n",
    "\n",
    "print(\"Accuracy: Test\")\n",
    "accuracy_test=metrics.accuracy_score(y_test,y_pred_test)\n",
    "print(accuracy_test)\n",
    "\n",
    "# Precision\n",
    "print(\"Precision: Train\")\n",
    "precision_train=metrics.precision_score(y_train,y_pred_train)\n",
    "print(precision_train)\n",
    "\n",
    "print(\"Precision: Test\")\n",
    "precision_test=metrics.precision_score(y_test,y_pred_test)\n",
    "print(precision_test)\n",
    "\n",
    "# Recall\n",
    "print(\"Recall: Train\")\n",
    "recall_train=metrics.recall_score(y_train,y_pred_train)\n",
    "print(recall_train)\n",
    "\n",
    "print(\"Recall: Test\")\n",
    "recall_test=metrics.recall_score(y_test,y_pred_test)\n",
    "print(recall_test)"
   ]
  },
  {
   "cell_type": "code",
   "execution_count": null,
   "metadata": {
    "colab": {},
    "colab_type": "code",
    "id": "EVh7J6GvS5Rw"
   },
   "outputs": [],
   "source": []
  },
  {
   "cell_type": "code",
   "execution_count": 19,
   "metadata": {
    "colab": {},
    "colab_type": "code",
    "executionInfo": {
     "elapsed": 544,
     "status": "ok",
     "timestamp": 1592350834746,
     "user": {
      "displayName": "ANDRE OMAR CHAVEZ PANDURO",
      "photoUrl": "https://lh3.googleusercontent.com/a-/AOh14GhhoQ1kbFXrI1LHS5aCbnzbQoTSVMlrpsL1-iED=s64",
      "userId": "14331399592622880507"
     },
     "user_tz": 300
    },
    "id": "b_N-4I1oS5Rz"
   },
   "outputs": [],
   "source": [
    "## Modelos Supervisados : AdaBoost ##\n",
    "from sklearn.ensemble import AdaBoostClassifier # Paso01: Instancio\n",
    "AdaBoost=AdaBoostClassifier(learning_rate=0.9, n_estimators=10000) # Paso02: Especifico\n",
    "AdaBoost.fit(X_train, y_train) # Paso03: Entrenamiento algoritmo"
   ]
  },
  {
   "cell_type": "code",
   "execution_count": null,
   "metadata": {
    "colab": {},
    "colab_type": "code",
    "id": "kWfqCokHS5R2"
   },
   "outputs": [],
   "source": [
    "# Paso N°04: Predecir con el algoritmo entrenado para validar\n",
    "y_pred_train=AdaBoost.predict(X_train) # Prediccion sobre el train\n",
    "y_pred_test= AdaBoost.predict(X_test) # Prediccion sobre el test"
   ]
  },
  {
   "cell_type": "code",
   "execution_count": 19,
   "metadata": {
    "colab": {},
    "colab_type": "code",
    "executionInfo": {
     "elapsed": 652,
     "status": "ok",
     "timestamp": 1592350939356,
     "user": {
      "displayName": "ANDRE OMAR CHAVEZ PANDURO",
      "photoUrl": "https://lh3.googleusercontent.com/a-/AOh14GhhoQ1kbFXrI1LHS5aCbnzbQoTSVMlrpsL1-iED=s64",
      "userId": "14331399592622880507"
     },
     "user_tz": 300
    },
    "id": "yvmLQZCVS5R5"
   },
   "outputs": [],
   "source": [
    "# Paso N°05: Comparar el valor pronosticado con el valor real\n",
    "from sklearn import metrics as metrics\n",
    "# Matriz de confusion\n",
    "print(\"Matriz confusion: Train\")\n",
    "cm_train = metrics.confusion_matrix(y_train,y_pred_train)\n",
    "print(cm_train)\n",
    "\n",
    "print(\"Matriz confusion: Test\")\n",
    "cm_test = metrics.confusion_matrix(y_test,y_pred_test)\n",
    "print(cm_test)\n",
    "\n",
    "# Accuracy\n",
    "print(\"Accuracy: Train\")\n",
    "accuracy_train=metrics.accuracy_score(y_train,y_pred_train)\n",
    "print(accuracy_train)\n",
    "\n",
    "print(\"Accuracy: Test\")\n",
    "accuracy_test=metrics.accuracy_score(y_test,y_pred_test)\n",
    "print(accuracy_test)\n",
    "\n",
    "# Precision\n",
    "print(\"Precision: Train\")\n",
    "precision_train=metrics.precision_score(y_train,y_pred_train)\n",
    "print(precision_train)\n",
    "\n",
    "print(\"Precision: Test\")\n",
    "precision_test=metrics.precision_score(y_test,y_pred_test)\n",
    "print(precision_test)\n",
    "\n",
    "# Recall\n",
    "print(\"Recall: Train\")\n",
    "recall_train=metrics.recall_score(y_train,y_pred_train)\n",
    "print(recall_train)\n",
    "\n",
    "print(\"Recall: Test\")\n",
    "recall_test=metrics.recall_score(y_test,y_pred_test)\n",
    "print(recall_test)"
   ]
  },
  {
   "cell_type": "code",
   "execution_count": null,
   "metadata": {
    "colab": {},
    "colab_type": "code",
    "id": "fdBGWvNcS5SU"
   },
   "outputs": [],
   "source": [
    "##################################################\n",
    "## Implementación de Modelos de Machine Learning\n",
    "##################################################"
   ]
  },
  {
   "cell_type": "code",
   "execution_count": null,
   "metadata": {
    "colab": {},
    "colab_type": "code",
    "id": "3Wre-82qS5SW"
   },
   "outputs": [],
   "source": [
    "# Leemos el dataset de implementacion, podria ser una informacion a enivar a campanas\n",
    "implemt = pd.read_csv(\"\") "
   ]
  },
  {
   "cell_type": "code",
   "execution_count": null,
   "metadata": {
    "colab": {},
    "colab_type": "code",
    "id": "xkPB5eqrS5SY"
   },
   "outputs": [],
   "source": [
    "# Todo lo realizado en el dataset de entrenamiento del modelo lo debemos replicar en el dataset de scoring\n",
    "implemt.Credit_History = implemt.Credit_History.astype('str')"
   ]
  },
  {
   "cell_type": "code",
   "execution_count": null,
   "metadata": {
    "colab": {},
    "colab_type": "code",
    "id": "yihrR0b6S5Sb"
   },
   "outputs": [],
   "source": [
    "# Imputamos los valores cualitativos por Moda\n",
    "implemt.Gender = implemt.Gender.fillna(\"Male\")\n",
    "implemt.Married = implemt.Married.fillna(\"Yes\")\n",
    "implemt.Self_Employed = implemt.Self_Employed.fillna(\"Yes\")\n",
    "implemt.Credit_History = implemt.Credit_History.fillna(\"1\")\n",
    "implemt.Dependents = implemt.Dependents.fillna(\"0\")"
   ]
  },
  {
   "cell_type": "code",
   "execution_count": null,
   "metadata": {
    "colab": {},
    "colab_type": "code",
    "id": "8oMNbtC0S5Sh"
   },
   "outputs": [],
   "source": [
    "# Separamos los features categoricos y los numericos\n",
    "columnas_categoricas = [\"Gender\",\"Married\",\"Education\",\"Self_Employed\",\"Property_Area\",\"Dependents\",\"Credit_History\"]\n",
    "columnas_numericas = [\"ApplicantIncome\",\"CoapplicantIncome\",\"LoanAmount\",\"Loan_Amount_Term\"]"
   ]
  },
  {
   "cell_type": "code",
   "execution_count": 19,
   "metadata": {
    "colab": {},
    "colab_type": "code",
    "executionInfo": {
     "elapsed": 676,
     "status": "ok",
     "timestamp": 1592350962073,
     "user": {
      "displayName": "ANDRE OMAR CHAVEZ PANDURO",
      "photoUrl": "https://lh3.googleusercontent.com/a-/AOh14GhhoQ1kbFXrI1LHS5aCbnzbQoTSVMlrpsL1-iED=s64",
      "userId": "14331399592622880507"
     },
     "user_tz": 300
    },
    "id": "5xl0VShjS5Si"
   },
   "outputs": [],
   "source": [
    "# Preprocesamiento con LabelEncoder\n",
    "from sklearn.preprocessing import LabelEncoder\n",
    "for c in columnas_categoricas:\n",
    "    print(str(c))\n",
    "    le = LabelEncoder()\n",
    "    le.fit(implemt[str(c)])\n",
    "    implemt[str(c)]=le.transform(implemt[str(c)]) "
   ]
  },
  {
   "cell_type": "code",
   "execution_count": null,
   "metadata": {
    "colab": {},
    "colab_type": "code",
    "id": "I7tN_wRnS5Sk"
   },
   "outputs": [],
   "source": [
    "# Imputamos los valores cuantitativos por Media o Mediana\n",
    "for c in columnas_numericas:\n",
    "    median = implemt[c].median()\n",
    "    implemt[c].fillna(median, inplace=True)"
   ]
  },
  {
   "cell_type": "code",
   "execution_count": null,
   "metadata": {
    "colab": {},
    "colab_type": "code",
    "id": "lu17DbClS5Sp"
   },
   "outputs": [],
   "source": [
    "# Ingenieria de datos\n",
    "#Creamos las mismas variables que utilizamos en el train\n",
    "implemt['TotalIncome']    = implemt['ApplicantIncome'] + implemt['CoapplicantIncome']\n",
    "implemt['Log_LoanAmount'] = round(np.log(implemt['LoanAmount']+1),2)"
   ]
  },
  {
   "cell_type": "code",
   "execution_count": null,
   "metadata": {
    "colab": {},
    "colab_type": "code",
    "id": "4QdHAHWES5Sq"
   },
   "outputs": [],
   "source": [
    "implemt['AmountxTerm']    = round(implemt['LoanAmount']/implemt['Loan_Amount_Term'],2)\n",
    "implemt[\"Cuota_Ingreso1\"] = (1000*implemt[\"LoanAmount\"]/implemt[\"Loan_Amount_Term\"])/(implemt[\"ApplicantIncome\"] +1)\n",
    "implemt[\"Cuota_Ingreso2\"] = (1000*implemt[\"LoanAmount\"]/implemt[\"Loan_Amount_Term\"])/(implemt[\"TotalIncome\"] +1)\n",
    "implemt[\"Cuota_Ingreso_Hijo\"] = (1000*implemt[\"LoanAmount\"]/implemt[\"Loan_Amount_Term\"])/(implemt[\"TotalIncome\"]/(implemt[\"Dependents\"]+1))\n"
   ]
  },
  {
   "cell_type": "code",
   "execution_count": null,
   "metadata": {
    "colab": {},
    "colab_type": "code",
    "id": "UHCvxchzS5Ss"
   },
   "outputs": [],
   "source": [
    "# Una vez que tenemos todas las variables podemos scorear o puntuar los registros\n",
    "# No olvidemos quitar el ID! "
   ]
  },
  {
   "cell_type": "code",
   "execution_count": null,
   "metadata": {
    "colab": {},
    "colab_type": "code",
    "id": "L5kcXercS5S0"
   },
   "outputs": [],
   "source": [
    "# Predecimos sobre el set de datos de implementacion con el modelo entrenado\n",
    "y_scoring = lr.predict(df_scoring) # Predecimos sobre nuevos clientes o clientes sin la variable dependiente VD\n",
    "# Juntamos el ID con la clase\n",
    "data = np.hstack((implemt['Loan_ID'].values.reshape(-1,1), y_scoring.reshape(-1,1)))\n",
    "# Le asignamos nombres a las columnas\n",
    "df_submmit = pd.DataFrame(data, columns=['Loan_ID','Loan_Status'])\n",
    "# Convertimos al formato solicitado por Analytics Vidhya\n",
    "df_submmit['Loan_Status']=[\"Y\" if i == 1 else \"N\" for i in df_submmit['Loan_Status']]\n",
    "# Exportamos la solucion\n",
    "df_submmit.to_csv('Sol_Stacking001.csv', index=False)"
   ]
  },
  {
   "cell_type": "code",
   "execution_count": null,
   "metadata": {
    "colab": {},
    "colab_type": "code",
    "id": "409rOMfTS5S3"
   },
   "outputs": [],
   "source": [
    "# Listo , objetivo cumplido"
   ]
  },
  {
   "cell_type": "code",
   "execution_count": null,
   "metadata": {
    "colab": {},
    "colab_type": "code",
    "id": "AV68z9tIhDYv"
   },
   "outputs": [],
   "source": []
  },
  {
   "cell_type": "code",
   "execution_count": null,
   "metadata": {
    "colab": {
     "base_uri": "https://localhost:8080/",
     "height": 255
    },
    "colab_type": "code",
    "executionInfo": {
     "elapsed": 5560,
     "status": "ok",
     "timestamp": 1592297254032,
     "user": {
      "displayName": "ANDRE OMAR CHAVEZ PANDURO",
      "photoUrl": "https://lh3.googleusercontent.com/a-/AOh14GhhoQ1kbFXrI1LHS5aCbnzbQoTSVMlrpsL1-iED=s64",
      "userId": "14331399592622880507"
     },
     "user_tz": 300
    },
    "id": "gMH1KDauS5S5",
    "outputId": "806f0922-9db8-43f7-b7c1-7cd07c221437"
   },
   "outputs": [
    {
     "name": "stdout",
     "output_type": "stream",
     "text": [
      "Collecting woe\n",
      "  Downloading https://files.pythonhosted.org/packages/f5/32/ba4d592dfef45338ee04ca90c37b4f3aa345bdeafcad4dcbf654ad0b14c2/woe-0.1.4-py3-none-any.whl\n",
      "Requirement already satisfied: scipy>=0.18.1 in /usr/local/lib/python3.6/dist-packages (from woe) (1.4.1)\n",
      "Requirement already satisfied: pandas>=0.19.2 in /usr/local/lib/python3.6/dist-packages (from woe) (1.0.4)\n",
      "Requirement already satisfied: matplotlib>=2.0.0 in /usr/local/lib/python3.6/dist-packages (from woe) (3.2.1)\n",
      "Requirement already satisfied: numpy>=1.11.3 in /usr/local/lib/python3.6/dist-packages (from woe) (1.18.5)\n",
      "Requirement already satisfied: pytz>=2017.2 in /usr/local/lib/python3.6/dist-packages (from pandas>=0.19.2->woe) (2018.9)\n",
      "Requirement already satisfied: python-dateutil>=2.6.1 in /usr/local/lib/python3.6/dist-packages (from pandas>=0.19.2->woe) (2.8.1)\n",
      "Requirement already satisfied: cycler>=0.10 in /usr/local/lib/python3.6/dist-packages (from matplotlib>=2.0.0->woe) (0.10.0)\n",
      "Requirement already satisfied: pyparsing!=2.0.4,!=2.1.2,!=2.1.6,>=2.0.1 in /usr/local/lib/python3.6/dist-packages (from matplotlib>=2.0.0->woe) (2.4.7)\n",
      "Requirement already satisfied: kiwisolver>=1.0.1 in /usr/local/lib/python3.6/dist-packages (from matplotlib>=2.0.0->woe) (1.2.0)\n",
      "Requirement already satisfied: six>=1.5 in /usr/local/lib/python3.6/dist-packages (from python-dateutil>=2.6.1->pandas>=0.19.2->woe) (1.12.0)\n",
      "Installing collected packages: woe\n",
      "Successfully installed woe-0.1.4\n"
     ]
    }
   ],
   "source": [
    "# Anexo\n",
    "! pip install woe"
   ]
  },
  {
   "cell_type": "code",
   "execution_count": null,
   "metadata": {
    "colab": {},
    "colab_type": "code",
    "id": "u8mVverhS5S7"
   },
   "outputs": [],
   "source": [
    "# Anexos : WOE\n",
    "import woe\n",
    "from woe.eval import plot_ks\n",
    "import pandas.core.algorithms as algos\n",
    "from pandas import Series\n",
    "import scipy.stats.stats as stats\n",
    "import re\n",
    "import traceback\n",
    "import string\n",
    "import os\n",
    "import matplotlib.pyplot as plt\n",
    "%matplotlib inline\n",
    "from pylab import rcParams\n",
    "rcParams['figure.figsize'] = 14, 8\n",
    "import warnings\n",
    "warnings.filterwarnings('ignore')\n",
    "max_bin = 20\n",
    "force_bin = 3\n",
    "\n",
    "\n",
    "# Creamos las Woes - IV\n",
    "max_bin = 20\n",
    "force_bin = 3\n",
    "\n",
    "def mono_bin(Y, X, n = max_bin):\n",
    "    df1 = pd.DataFrame({\"X\": X, \"Y\": Y})\n",
    "    justmiss = df1[['X','Y']][df1.X.isnull()]\n",
    "    notmiss = df1[['X','Y']][df1.X.notnull()]\n",
    "    r = 0\n",
    "    while np.abs(r) < 1:\n",
    "        try:\n",
    "            d1 = pd.DataFrame({\"X\": notmiss.X, \"Y\": notmiss.Y, \"Bucket\": pd.qcut(notmiss.X, n)})\n",
    "            d2 = d1.groupby('Bucket', as_index=True)\n",
    "            r, p = stats.spearmanr(d2.mean().X, d2.mean().Y)\n",
    "            n = n - 1 \n",
    "        except Exception as e:\n",
    "            n = n - 1\n",
    "\n",
    "    if len(d2) == 1:\n",
    "        n = force_bin         \n",
    "        bins = algos.quantile(notmiss.X, np.linspace(0, 1, n))\n",
    "        if len(np.unique(bins)) == 2:\n",
    "            bins = np.insert(bins, 0, 1)\n",
    "            bins[1] = bins[1]-(bins[1]/2)\n",
    "        d1 = pd.DataFrame({\"X\": notmiss.X, \"Y\": notmiss.Y, \"Bucket\": pd.cut(notmiss.X, np.unique(bins),include_lowest=True)}) \n",
    "        d2 = d1.groupby('Bucket', as_index=True)\n",
    "    \n",
    "    d3 = pd.DataFrame({},index=[])\n",
    "    d3[\"MIN_VALUE\"] = d2.min().X\n",
    "    d3[\"MAX_VALUE\"] = d2.max().X\n",
    "    d3[\"COUNT\"] = d2.count().Y\n",
    "    d3[\"EVENT\"] = d2.sum().Y\n",
    "    d3[\"NONEVENT\"] = d2.count().Y - d2.sum().Y\n",
    "    d3=d3.reset_index(drop=True)\n",
    "    \n",
    "    if len(justmiss.index) > 0:\n",
    "        d4 = pd.DataFrame({'MIN_VALUE':np.nan},index=[0])\n",
    "        d4[\"MAX_VALUE\"] = np.nan\n",
    "        d4[\"COUNT\"] = justmiss.count().Y\n",
    "        d4[\"EVENT\"] = justmiss.sum().Y\n",
    "        d4[\"NONEVENT\"] = justmiss.count().Y - justmiss.sum().Y\n",
    "        d3 = d3.append(d4,ignore_index=True)\n",
    "    \n",
    "    d3[\"EVENT_RATE\"] = d3.EVENT/d3.COUNT\n",
    "    d3[\"NON_EVENT_RATE\"] = d3.NONEVENT/d3.COUNT\n",
    "    d3[\"DIST_EVENT\"] = d3.EVENT/d3.sum().EVENT\n",
    "    d3[\"DIST_NON_EVENT\"] = d3.NONEVENT/d3.sum().NONEVENT\n",
    "    d3[\"WOE\"] = np.log(d3.DIST_EVENT/d3.DIST_NON_EVENT)\n",
    "    d3[\"IV\"] = (d3.DIST_EVENT-d3.DIST_NON_EVENT)*np.log(d3.DIST_EVENT/d3.DIST_NON_EVENT)\n",
    "    d3[\"VAR_NAME\"] = \"VAR\"\n",
    "    d3 = d3[['VAR_NAME','MIN_VALUE', 'MAX_VALUE', 'COUNT', 'EVENT', 'EVENT_RATE', 'NONEVENT', 'NON_EVENT_RATE', 'DIST_EVENT','DIST_NON_EVENT','WOE', 'IV']]       \n",
    "    d3 = d3.replace([np.inf, -np.inf], 0)\n",
    "    d3.IV = d3.IV.sum()\n",
    "    \n",
    "    return(d3)\n",
    "\n",
    "\n",
    "def char_bin(Y, X):\n",
    "        \n",
    "    df1 = pd.DataFrame({\"X\": X, \"Y\": Y})\n",
    "    justmiss = df1[['X','Y']][df1.X.isnull()]\n",
    "    notmiss = df1[['X','Y']][df1.X.notnull()]    \n",
    "    df2 = notmiss.groupby('X',as_index=True)\n",
    "    \n",
    "    d3 = pd.DataFrame({},index=[])\n",
    "    d3[\"COUNT\"] = df2.count().Y\n",
    "    d3[\"MIN_VALUE\"] = df2.sum().Y.index\n",
    "    d3[\"MAX_VALUE\"] = d3[\"MIN_VALUE\"]\n",
    "    d3[\"EVENT\"] = df2.sum().Y\n",
    "    d3[\"NONEVENT\"] = df2.count().Y - df2.sum().Y\n",
    "    \n",
    "    if len(justmiss.index) > 0:\n",
    "        d4 = pd.DataFrame({'MIN_VALUE':np.nan},index=[0])\n",
    "        d4[\"MAX_VALUE\"] = np.nan\n",
    "        d4[\"COUNT\"] = justmiss.count().Y\n",
    "        d4[\"EVENT\"] = justmiss.sum().Y\n",
    "        d4[\"NONEVENT\"] = justmiss.count().Y - justmiss.sum().Y\n",
    "        d3 = d3.append(d4,ignore_index=True)\n",
    "    \n",
    "    d3[\"EVENT_RATE\"] = d3.EVENT/d3.COUNT\n",
    "    d3[\"NON_EVENT_RATE\"] = d3.NONEVENT/d3.COUNT\n",
    "    d3[\"DIST_EVENT\"] = d3.EVENT/d3.sum().EVENT\n",
    "    d3[\"DIST_NON_EVENT\"] = d3.NONEVENT/d3.sum().NONEVENT\n",
    "    d3[\"WOE\"] = np.log(d3.DIST_EVENT/d3.DIST_NON_EVENT)\n",
    "    d3[\"IV\"] = (d3.DIST_EVENT-d3.DIST_NON_EVENT)*np.log(d3.DIST_EVENT/d3.DIST_NON_EVENT)\n",
    "    d3[\"VAR_NAME\"] = \"VAR\"\n",
    "    d3 = d3[['VAR_NAME','MIN_VALUE', 'MAX_VALUE', 'COUNT', 'EVENT', 'EVENT_RATE', 'NONEVENT', 'NON_EVENT_RATE', 'DIST_EVENT','DIST_NON_EVENT','WOE', 'IV']]      \n",
    "    d3 = d3.replace([np.inf, -np.inf], 0)\n",
    "    d3.IV = d3.IV.sum()\n",
    "    d3 = d3.reset_index(drop=True)\n",
    "    \n",
    "    return(d3)\n",
    "\n",
    "\n",
    "def data_vars(df1, target):\n",
    "    \n",
    "    stack = traceback.extract_stack()\n",
    "    filename, lineno, function_name, code = stack[-2]\n",
    "    vars_name = re.compile(r'\\((.*?)\\).*$').search(code).groups()[0]\n",
    "    final = (re.findall(r\"[\\w']+\", vars_name))[-1]\n",
    "    \n",
    "    x = df1.dtypes.index\n",
    "    count = -1\n",
    "    \n",
    "    for i in x:\n",
    "        if i.upper() not in (final.upper()):\n",
    "            if np.issubdtype(df1[i], np.number) and len(Series.unique(df1[i])) > 2:\n",
    "                conv = mono_bin(target, df1[i])\n",
    "                conv[\"VAR_NAME\"] = i\n",
    "                count = count + 1\n",
    "            else:\n",
    "                conv = char_bin(target, df1[i])\n",
    "                conv[\"VAR_NAME\"] = i            \n",
    "                count = count + 1\n",
    "                \n",
    "            if count == 0:\n",
    "                iv_df = conv\n",
    "            else:\n",
    "                iv_df = iv_df.append(conv,ignore_index=True)\n",
    "    \n",
    "    iv = pd.DataFrame({'IV':iv_df.groupby('VAR_NAME').IV.max()})\n",
    "    iv = iv.reset_index()\n",
    "    return(iv_df,iv)"
   ]
  },
  {
   "cell_type": "code",
   "execution_count": null,
   "metadata": {
    "colab": {},
    "colab_type": "code",
    "id": "m0ZzrMdRS5S9"
   },
   "outputs": [],
   "source": [
    "# Fin !!"
   ]
  }
 ],
 "metadata": {
  "colab": {
   "collapsed_sections": [],
   "name": "AprendizajeSupervisadoRespuestaCategorica - Notebook01.ipynb",
   "provenance": []
  },
  "kernelspec": {
   "display_name": "Python 3",
   "language": "python",
   "name": "python3"
  },
  "language_info": {
   "codemirror_mode": {
    "name": "ipython",
    "version": 3
   },
   "file_extension": ".py",
   "mimetype": "text/x-python",
   "name": "python",
   "nbconvert_exporter": "python",
   "pygments_lexer": "ipython3",
   "version": "3.7.6"
  },
  "toc": {
   "base_numbering": 1,
   "nav_menu": {},
   "number_sections": true,
   "sideBar": true,
   "skip_h1_title": false,
   "title_cell": "Table of Contents",
   "title_sidebar": "Contents",
   "toc_cell": false,
   "toc_position": {
    "height": "calc(100% - 180px)",
    "left": "10px",
    "top": "150px",
    "width": "165px"
   },
   "toc_section_display": true,
   "toc_window_display": false
  },
  "varInspector": {
   "cols": {
    "lenName": 16,
    "lenType": 16,
    "lenVar": 40
   },
   "kernels_config": {
    "python": {
     "delete_cmd_postfix": "",
     "delete_cmd_prefix": "del ",
     "library": "var_list.py",
     "varRefreshCmd": "print(var_dic_list())"
    },
    "r": {
     "delete_cmd_postfix": ") ",
     "delete_cmd_prefix": "rm(",
     "library": "var_list.r",
     "varRefreshCmd": "cat(var_dic_list()) "
    }
   },
   "types_to_exclude": [
    "module",
    "function",
    "builtin_function_or_method",
    "instance",
    "_Feature"
   ],
   "window_display": false
  }
 },
 "nbformat": 4,
 "nbformat_minor": 1
}
